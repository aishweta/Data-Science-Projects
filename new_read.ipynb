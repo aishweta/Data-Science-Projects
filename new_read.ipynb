{
 "cells": [
  {
   "cell_type": "code",
   "execution_count": 60,
   "metadata": {},
   "outputs": [],
   "source": [
    "import numpy as np\n",
    "import pandas as pd\n",
    "import seaborn as sns\n",
    "import matplotlib.pyplot as plt\n",
    "%matplotlib inline\n",
    "import scipy\n",
    "import scipy.stats\n",
    "import statsmodels.api as sm\n",
    "\n",
    "import sklearn as sk\n",
    "\n",
    "pd.options.display.max_columns = 50\n",
    "pd.options.mode.chained_assignment = None\n"
   ]
  },
  {
   "cell_type": "code",
   "execution_count": 61,
   "metadata": {},
   "outputs": [],
   "source": [
    "# Major libraries\n",
    "import scipy\n",
    "import bottleneck # for speeding up pandas operations\n",
    "import numexpr # ditto\n",
    "import numpy as np\n",
    "import pandas as pd\n",
    "import seaborn as sns\n",
    "import matplotlib.pyplot as plt\n",
    "from IPython.display import clear_output\n",
    "\n",
    "# Mining / EDA / dimensionality reduction\n",
    "from sklearn.preprocessing import StandardScaler, LabelEncoder\n",
    "from sklearn.decomposition import PCA\n",
    "from sklearn.grid_search import GridSearchCV\n",
    "from sklearn.preprocessing import scale\n",
    "from scipy.spatial.distance import euclidean\n",
    "\n",
    "# Supervised learning\n",
    "from sklearn import metrics\n",
    "from sklearn.dummy import DummyClassifier\n",
    "from sklearn.feature_selection import VarianceThreshold\n",
    "from sklearn.cross_validation import train_test_split, cross_val_score, cross_val_predict\n",
    "from sklearn.discriminant_analysis import LinearDiscriminantAnalysis\n",
    "from sklearn.linear_model import LogisticRegression\n",
    "from sklearn.neighbors import KNeighborsClassifier\n",
    "\n",
    "# Unsupervised learning\n",
    "from sklearn.cluster import DBSCAN, KMeans\n",
    "from sklearn.manifold import TSNE\n",
    "from sklearn.metrics.pairwise import pairwise_distances\n",
    "from matplotlib.colors import ListedColormap\n",
    "\n",
    "%matplotlib inline\n",
    "rng = np.random.RandomState(1)"
   ]
  },
  {
   "cell_type": "code",
   "execution_count": 102,
   "metadata": {
    "collapsed": true
   },
   "outputs": [],
   "source": [
    "# read the file and create a pandas dataframe\n",
    "data = pd.read_csv('D:/shweta/Re-admission/Diabetes_read/diabetic_data.csv')"
   ]
  },
  {
   "cell_type": "code",
   "execution_count": 103,
   "metadata": {},
   "outputs": [
    {
     "data": {
      "text/plain": [
       "(101766, 50)"
      ]
     },
     "execution_count": 103,
     "metadata": {},
     "output_type": "execute_result"
    }
   ],
   "source": [
    "# check the dimensions of the data\n",
    "data.shape"
   ]
  },
  {
   "cell_type": "code",
   "execution_count": 104,
   "metadata": {},
   "outputs": [],
   "source": [
    "#data type\n",
    "#data.dtypes"
   ]
  },
  {
   "cell_type": "code",
   "execution_count": 105,
   "metadata": {},
   "outputs": [
    {
     "data": {
      "text/html": [
       "<div>\n",
       "<style>\n",
       "    .dataframe thead tr:only-child th {\n",
       "        text-align: right;\n",
       "    }\n",
       "\n",
       "    .dataframe thead th {\n",
       "        text-align: left;\n",
       "    }\n",
       "\n",
       "    .dataframe tbody tr th {\n",
       "        vertical-align: top;\n",
       "    }\n",
       "</style>\n",
       "<table border=\"1\" class=\"dataframe\">\n",
       "  <thead>\n",
       "    <tr style=\"text-align: right;\">\n",
       "      <th></th>\n",
       "      <th>encounter_id</th>\n",
       "      <th>patient_nbr</th>\n",
       "      <th>race</th>\n",
       "      <th>gender</th>\n",
       "      <th>age</th>\n",
       "      <th>weight</th>\n",
       "      <th>admission_type_id</th>\n",
       "      <th>discharge_disposition_id</th>\n",
       "      <th>admission_source_id</th>\n",
       "      <th>time_in_hospital</th>\n",
       "      <th>payer_code</th>\n",
       "      <th>medical_specialty</th>\n",
       "      <th>num_lab_procedures</th>\n",
       "      <th>num_procedures</th>\n",
       "      <th>num_medications</th>\n",
       "      <th>number_outpatient</th>\n",
       "      <th>number_emergency</th>\n",
       "      <th>number_inpatient</th>\n",
       "      <th>diag_1</th>\n",
       "      <th>diag_2</th>\n",
       "      <th>diag_3</th>\n",
       "      <th>number_diagnoses</th>\n",
       "      <th>max_glu_serum</th>\n",
       "      <th>A1Cresult</th>\n",
       "      <th>metformin</th>\n",
       "      <th>repaglinide</th>\n",
       "      <th>nateglinide</th>\n",
       "      <th>chlorpropamide</th>\n",
       "      <th>glimepiride</th>\n",
       "      <th>acetohexamide</th>\n",
       "      <th>glipizide</th>\n",
       "      <th>glyburide</th>\n",
       "      <th>tolbutamide</th>\n",
       "      <th>pioglitazone</th>\n",
       "      <th>rosiglitazone</th>\n",
       "      <th>acarbose</th>\n",
       "      <th>miglitol</th>\n",
       "      <th>troglitazone</th>\n",
       "      <th>tolazamide</th>\n",
       "      <th>examide</th>\n",
       "      <th>citoglipton</th>\n",
       "      <th>insulin</th>\n",
       "      <th>glyburide-metformin</th>\n",
       "      <th>glipizide-metformin</th>\n",
       "      <th>glimepiride-pioglitazone</th>\n",
       "      <th>metformin-rosiglitazone</th>\n",
       "      <th>metformin-pioglitazone</th>\n",
       "      <th>change</th>\n",
       "      <th>diabetesMed</th>\n",
       "      <th>readmitted</th>\n",
       "    </tr>\n",
       "  </thead>\n",
       "  <tbody>\n",
       "    <tr>\n",
       "      <th>0</th>\n",
       "      <td>2278392</td>\n",
       "      <td>8222157</td>\n",
       "      <td>Caucasian</td>\n",
       "      <td>Female</td>\n",
       "      <td>[0-10)</td>\n",
       "      <td>?</td>\n",
       "      <td>6</td>\n",
       "      <td>25</td>\n",
       "      <td>1</td>\n",
       "      <td>1</td>\n",
       "      <td>?</td>\n",
       "      <td>Pediatrics-Endocrinology</td>\n",
       "      <td>41</td>\n",
       "      <td>0</td>\n",
       "      <td>1</td>\n",
       "      <td>0</td>\n",
       "      <td>0</td>\n",
       "      <td>0</td>\n",
       "      <td>250.83</td>\n",
       "      <td>?</td>\n",
       "      <td>?</td>\n",
       "      <td>1</td>\n",
       "      <td>None</td>\n",
       "      <td>None</td>\n",
       "      <td>No</td>\n",
       "      <td>No</td>\n",
       "      <td>No</td>\n",
       "      <td>No</td>\n",
       "      <td>No</td>\n",
       "      <td>No</td>\n",
       "      <td>No</td>\n",
       "      <td>No</td>\n",
       "      <td>No</td>\n",
       "      <td>No</td>\n",
       "      <td>No</td>\n",
       "      <td>No</td>\n",
       "      <td>No</td>\n",
       "      <td>No</td>\n",
       "      <td>No</td>\n",
       "      <td>No</td>\n",
       "      <td>No</td>\n",
       "      <td>No</td>\n",
       "      <td>No</td>\n",
       "      <td>No</td>\n",
       "      <td>No</td>\n",
       "      <td>No</td>\n",
       "      <td>No</td>\n",
       "      <td>No</td>\n",
       "      <td>No</td>\n",
       "      <td>NO</td>\n",
       "    </tr>\n",
       "    <tr>\n",
       "      <th>1</th>\n",
       "      <td>149190</td>\n",
       "      <td>55629189</td>\n",
       "      <td>Caucasian</td>\n",
       "      <td>Female</td>\n",
       "      <td>[10-20)</td>\n",
       "      <td>?</td>\n",
       "      <td>1</td>\n",
       "      <td>1</td>\n",
       "      <td>7</td>\n",
       "      <td>3</td>\n",
       "      <td>?</td>\n",
       "      <td>?</td>\n",
       "      <td>59</td>\n",
       "      <td>0</td>\n",
       "      <td>18</td>\n",
       "      <td>0</td>\n",
       "      <td>0</td>\n",
       "      <td>0</td>\n",
       "      <td>276</td>\n",
       "      <td>250.01</td>\n",
       "      <td>255</td>\n",
       "      <td>9</td>\n",
       "      <td>None</td>\n",
       "      <td>None</td>\n",
       "      <td>No</td>\n",
       "      <td>No</td>\n",
       "      <td>No</td>\n",
       "      <td>No</td>\n",
       "      <td>No</td>\n",
       "      <td>No</td>\n",
       "      <td>No</td>\n",
       "      <td>No</td>\n",
       "      <td>No</td>\n",
       "      <td>No</td>\n",
       "      <td>No</td>\n",
       "      <td>No</td>\n",
       "      <td>No</td>\n",
       "      <td>No</td>\n",
       "      <td>No</td>\n",
       "      <td>No</td>\n",
       "      <td>No</td>\n",
       "      <td>Up</td>\n",
       "      <td>No</td>\n",
       "      <td>No</td>\n",
       "      <td>No</td>\n",
       "      <td>No</td>\n",
       "      <td>No</td>\n",
       "      <td>Ch</td>\n",
       "      <td>Yes</td>\n",
       "      <td>&gt;30</td>\n",
       "    </tr>\n",
       "    <tr>\n",
       "      <th>2</th>\n",
       "      <td>64410</td>\n",
       "      <td>86047875</td>\n",
       "      <td>AfricanAmerican</td>\n",
       "      <td>Female</td>\n",
       "      <td>[20-30)</td>\n",
       "      <td>?</td>\n",
       "      <td>1</td>\n",
       "      <td>1</td>\n",
       "      <td>7</td>\n",
       "      <td>2</td>\n",
       "      <td>?</td>\n",
       "      <td>?</td>\n",
       "      <td>11</td>\n",
       "      <td>5</td>\n",
       "      <td>13</td>\n",
       "      <td>2</td>\n",
       "      <td>0</td>\n",
       "      <td>1</td>\n",
       "      <td>648</td>\n",
       "      <td>250</td>\n",
       "      <td>V27</td>\n",
       "      <td>6</td>\n",
       "      <td>None</td>\n",
       "      <td>None</td>\n",
       "      <td>No</td>\n",
       "      <td>No</td>\n",
       "      <td>No</td>\n",
       "      <td>No</td>\n",
       "      <td>No</td>\n",
       "      <td>No</td>\n",
       "      <td>Steady</td>\n",
       "      <td>No</td>\n",
       "      <td>No</td>\n",
       "      <td>No</td>\n",
       "      <td>No</td>\n",
       "      <td>No</td>\n",
       "      <td>No</td>\n",
       "      <td>No</td>\n",
       "      <td>No</td>\n",
       "      <td>No</td>\n",
       "      <td>No</td>\n",
       "      <td>No</td>\n",
       "      <td>No</td>\n",
       "      <td>No</td>\n",
       "      <td>No</td>\n",
       "      <td>No</td>\n",
       "      <td>No</td>\n",
       "      <td>No</td>\n",
       "      <td>Yes</td>\n",
       "      <td>NO</td>\n",
       "    </tr>\n",
       "    <tr>\n",
       "      <th>3</th>\n",
       "      <td>500364</td>\n",
       "      <td>82442376</td>\n",
       "      <td>Caucasian</td>\n",
       "      <td>Male</td>\n",
       "      <td>[30-40)</td>\n",
       "      <td>?</td>\n",
       "      <td>1</td>\n",
       "      <td>1</td>\n",
       "      <td>7</td>\n",
       "      <td>2</td>\n",
       "      <td>?</td>\n",
       "      <td>?</td>\n",
       "      <td>44</td>\n",
       "      <td>1</td>\n",
       "      <td>16</td>\n",
       "      <td>0</td>\n",
       "      <td>0</td>\n",
       "      <td>0</td>\n",
       "      <td>8</td>\n",
       "      <td>250.43</td>\n",
       "      <td>403</td>\n",
       "      <td>7</td>\n",
       "      <td>None</td>\n",
       "      <td>None</td>\n",
       "      <td>No</td>\n",
       "      <td>No</td>\n",
       "      <td>No</td>\n",
       "      <td>No</td>\n",
       "      <td>No</td>\n",
       "      <td>No</td>\n",
       "      <td>No</td>\n",
       "      <td>No</td>\n",
       "      <td>No</td>\n",
       "      <td>No</td>\n",
       "      <td>No</td>\n",
       "      <td>No</td>\n",
       "      <td>No</td>\n",
       "      <td>No</td>\n",
       "      <td>No</td>\n",
       "      <td>No</td>\n",
       "      <td>No</td>\n",
       "      <td>Up</td>\n",
       "      <td>No</td>\n",
       "      <td>No</td>\n",
       "      <td>No</td>\n",
       "      <td>No</td>\n",
       "      <td>No</td>\n",
       "      <td>Ch</td>\n",
       "      <td>Yes</td>\n",
       "      <td>NO</td>\n",
       "    </tr>\n",
       "    <tr>\n",
       "      <th>4</th>\n",
       "      <td>16680</td>\n",
       "      <td>42519267</td>\n",
       "      <td>Caucasian</td>\n",
       "      <td>Male</td>\n",
       "      <td>[40-50)</td>\n",
       "      <td>?</td>\n",
       "      <td>1</td>\n",
       "      <td>1</td>\n",
       "      <td>7</td>\n",
       "      <td>1</td>\n",
       "      <td>?</td>\n",
       "      <td>?</td>\n",
       "      <td>51</td>\n",
       "      <td>0</td>\n",
       "      <td>8</td>\n",
       "      <td>0</td>\n",
       "      <td>0</td>\n",
       "      <td>0</td>\n",
       "      <td>197</td>\n",
       "      <td>157</td>\n",
       "      <td>250</td>\n",
       "      <td>5</td>\n",
       "      <td>None</td>\n",
       "      <td>None</td>\n",
       "      <td>No</td>\n",
       "      <td>No</td>\n",
       "      <td>No</td>\n",
       "      <td>No</td>\n",
       "      <td>No</td>\n",
       "      <td>No</td>\n",
       "      <td>Steady</td>\n",
       "      <td>No</td>\n",
       "      <td>No</td>\n",
       "      <td>No</td>\n",
       "      <td>No</td>\n",
       "      <td>No</td>\n",
       "      <td>No</td>\n",
       "      <td>No</td>\n",
       "      <td>No</td>\n",
       "      <td>No</td>\n",
       "      <td>No</td>\n",
       "      <td>Steady</td>\n",
       "      <td>No</td>\n",
       "      <td>No</td>\n",
       "      <td>No</td>\n",
       "      <td>No</td>\n",
       "      <td>No</td>\n",
       "      <td>Ch</td>\n",
       "      <td>Yes</td>\n",
       "      <td>NO</td>\n",
       "    </tr>\n",
       "  </tbody>\n",
       "</table>\n",
       "</div>"
      ],
      "text/plain": [
       "   encounter_id  patient_nbr             race  gender      age weight  \\\n",
       "0       2278392      8222157        Caucasian  Female   [0-10)      ?   \n",
       "1        149190     55629189        Caucasian  Female  [10-20)      ?   \n",
       "2         64410     86047875  AfricanAmerican  Female  [20-30)      ?   \n",
       "3        500364     82442376        Caucasian    Male  [30-40)      ?   \n",
       "4         16680     42519267        Caucasian    Male  [40-50)      ?   \n",
       "\n",
       "   admission_type_id  discharge_disposition_id  admission_source_id  \\\n",
       "0                  6                        25                    1   \n",
       "1                  1                         1                    7   \n",
       "2                  1                         1                    7   \n",
       "3                  1                         1                    7   \n",
       "4                  1                         1                    7   \n",
       "\n",
       "   time_in_hospital payer_code         medical_specialty  num_lab_procedures  \\\n",
       "0                 1          ?  Pediatrics-Endocrinology                  41   \n",
       "1                 3          ?                         ?                  59   \n",
       "2                 2          ?                         ?                  11   \n",
       "3                 2          ?                         ?                  44   \n",
       "4                 1          ?                         ?                  51   \n",
       "\n",
       "   num_procedures  num_medications  number_outpatient  number_emergency  \\\n",
       "0               0                1                  0                 0   \n",
       "1               0               18                  0                 0   \n",
       "2               5               13                  2                 0   \n",
       "3               1               16                  0                 0   \n",
       "4               0                8                  0                 0   \n",
       "\n",
       "   number_inpatient  diag_1  diag_2 diag_3  number_diagnoses max_glu_serum  \\\n",
       "0                 0  250.83       ?      ?                 1          None   \n",
       "1                 0     276  250.01    255                 9          None   \n",
       "2                 1     648     250    V27                 6          None   \n",
       "3                 0       8  250.43    403                 7          None   \n",
       "4                 0     197     157    250                 5          None   \n",
       "\n",
       "  A1Cresult metformin repaglinide nateglinide chlorpropamide glimepiride  \\\n",
       "0      None        No          No          No             No          No   \n",
       "1      None        No          No          No             No          No   \n",
       "2      None        No          No          No             No          No   \n",
       "3      None        No          No          No             No          No   \n",
       "4      None        No          No          No             No          No   \n",
       "\n",
       "  acetohexamide glipizide glyburide tolbutamide pioglitazone rosiglitazone  \\\n",
       "0            No        No        No          No           No            No   \n",
       "1            No        No        No          No           No            No   \n",
       "2            No    Steady        No          No           No            No   \n",
       "3            No        No        No          No           No            No   \n",
       "4            No    Steady        No          No           No            No   \n",
       "\n",
       "  acarbose miglitol troglitazone tolazamide examide citoglipton insulin  \\\n",
       "0       No       No           No         No      No          No      No   \n",
       "1       No       No           No         No      No          No      Up   \n",
       "2       No       No           No         No      No          No      No   \n",
       "3       No       No           No         No      No          No      Up   \n",
       "4       No       No           No         No      No          No  Steady   \n",
       "\n",
       "  glyburide-metformin glipizide-metformin glimepiride-pioglitazone  \\\n",
       "0                  No                  No                       No   \n",
       "1                  No                  No                       No   \n",
       "2                  No                  No                       No   \n",
       "3                  No                  No                       No   \n",
       "4                  No                  No                       No   \n",
       "\n",
       "  metformin-rosiglitazone metformin-pioglitazone change diabetesMed readmitted  \n",
       "0                      No                     No     No          No         NO  \n",
       "1                      No                     No     Ch         Yes        >30  \n",
       "2                      No                     No     No         Yes         NO  \n",
       "3                      No                     No     Ch         Yes         NO  \n",
       "4                      No                     No     Ch         Yes         NO  "
      ]
     },
     "execution_count": 105,
     "metadata": {},
     "output_type": "execute_result"
    }
   ],
   "source": [
    "# first 5 rows of data\n",
    "data.head()"
   ]
  },
  {
   "cell_type": "code",
   "execution_count": 106,
   "metadata": {},
   "outputs": [
    {
     "data": {
      "text/html": [
       "<div>\n",
       "<style>\n",
       "    .dataframe thead tr:only-child th {\n",
       "        text-align: right;\n",
       "    }\n",
       "\n",
       "    .dataframe thead th {\n",
       "        text-align: left;\n",
       "    }\n",
       "\n",
       "    .dataframe tbody tr th {\n",
       "        vertical-align: top;\n",
       "    }\n",
       "</style>\n",
       "<table border=\"1\" class=\"dataframe\">\n",
       "  <thead>\n",
       "    <tr style=\"text-align: right;\">\n",
       "      <th></th>\n",
       "      <th>time_in_hospital</th>\n",
       "      <th>num_lab_procedures</th>\n",
       "      <th>num_procedures</th>\n",
       "      <th>num_medications</th>\n",
       "      <th>number_outpatient</th>\n",
       "      <th>number_emergency</th>\n",
       "      <th>number_inpatient</th>\n",
       "      <th>number_diagnoses</th>\n",
       "    </tr>\n",
       "  </thead>\n",
       "  <tbody>\n",
       "    <tr>\n",
       "      <th>count</th>\n",
       "      <td>101766.000000</td>\n",
       "      <td>101766.000000</td>\n",
       "      <td>101766.000000</td>\n",
       "      <td>101766.000000</td>\n",
       "      <td>101766.000000</td>\n",
       "      <td>101766.000000</td>\n",
       "      <td>101766.000000</td>\n",
       "      <td>101766.000000</td>\n",
       "    </tr>\n",
       "    <tr>\n",
       "      <th>mean</th>\n",
       "      <td>4.395987</td>\n",
       "      <td>43.095641</td>\n",
       "      <td>1.339730</td>\n",
       "      <td>16.021844</td>\n",
       "      <td>0.369357</td>\n",
       "      <td>0.197836</td>\n",
       "      <td>0.635566</td>\n",
       "      <td>7.422607</td>\n",
       "    </tr>\n",
       "    <tr>\n",
       "      <th>std</th>\n",
       "      <td>2.985108</td>\n",
       "      <td>19.674362</td>\n",
       "      <td>1.705807</td>\n",
       "      <td>8.127566</td>\n",
       "      <td>1.267265</td>\n",
       "      <td>0.930472</td>\n",
       "      <td>1.262863</td>\n",
       "      <td>1.933600</td>\n",
       "    </tr>\n",
       "    <tr>\n",
       "      <th>min</th>\n",
       "      <td>1.000000</td>\n",
       "      <td>1.000000</td>\n",
       "      <td>0.000000</td>\n",
       "      <td>1.000000</td>\n",
       "      <td>0.000000</td>\n",
       "      <td>0.000000</td>\n",
       "      <td>0.000000</td>\n",
       "      <td>1.000000</td>\n",
       "    </tr>\n",
       "    <tr>\n",
       "      <th>25%</th>\n",
       "      <td>2.000000</td>\n",
       "      <td>31.000000</td>\n",
       "      <td>0.000000</td>\n",
       "      <td>10.000000</td>\n",
       "      <td>0.000000</td>\n",
       "      <td>0.000000</td>\n",
       "      <td>0.000000</td>\n",
       "      <td>6.000000</td>\n",
       "    </tr>\n",
       "    <tr>\n",
       "      <th>50%</th>\n",
       "      <td>4.000000</td>\n",
       "      <td>44.000000</td>\n",
       "      <td>1.000000</td>\n",
       "      <td>15.000000</td>\n",
       "      <td>0.000000</td>\n",
       "      <td>0.000000</td>\n",
       "      <td>0.000000</td>\n",
       "      <td>8.000000</td>\n",
       "    </tr>\n",
       "    <tr>\n",
       "      <th>75%</th>\n",
       "      <td>6.000000</td>\n",
       "      <td>57.000000</td>\n",
       "      <td>2.000000</td>\n",
       "      <td>20.000000</td>\n",
       "      <td>0.000000</td>\n",
       "      <td>0.000000</td>\n",
       "      <td>1.000000</td>\n",
       "      <td>9.000000</td>\n",
       "    </tr>\n",
       "    <tr>\n",
       "      <th>max</th>\n",
       "      <td>14.000000</td>\n",
       "      <td>132.000000</td>\n",
       "      <td>6.000000</td>\n",
       "      <td>81.000000</td>\n",
       "      <td>42.000000</td>\n",
       "      <td>76.000000</td>\n",
       "      <td>21.000000</td>\n",
       "      <td>16.000000</td>\n",
       "    </tr>\n",
       "  </tbody>\n",
       "</table>\n",
       "</div>"
      ],
      "text/plain": [
       "       time_in_hospital  num_lab_procedures  num_procedures  num_medications  \\\n",
       "count     101766.000000       101766.000000   101766.000000    101766.000000   \n",
       "mean           4.395987           43.095641        1.339730        16.021844   \n",
       "std            2.985108           19.674362        1.705807         8.127566   \n",
       "min            1.000000            1.000000        0.000000         1.000000   \n",
       "25%            2.000000           31.000000        0.000000        10.000000   \n",
       "50%            4.000000           44.000000        1.000000        15.000000   \n",
       "75%            6.000000           57.000000        2.000000        20.000000   \n",
       "max           14.000000          132.000000        6.000000        81.000000   \n",
       "\n",
       "       number_outpatient  number_emergency  number_inpatient  number_diagnoses  \n",
       "count      101766.000000     101766.000000     101766.000000     101766.000000  \n",
       "mean            0.369357          0.197836          0.635566          7.422607  \n",
       "std             1.267265          0.930472          1.262863          1.933600  \n",
       "min             0.000000          0.000000          0.000000          1.000000  \n",
       "25%             0.000000          0.000000          0.000000          6.000000  \n",
       "50%             0.000000          0.000000          0.000000          8.000000  \n",
       "75%             0.000000          0.000000          1.000000          9.000000  \n",
       "max            42.000000         76.000000         21.000000         16.000000  "
      ]
     },
     "execution_count": 106,
     "metadata": {},
     "output_type": "execute_result"
    }
   ],
   "source": [
    "data[['time_in_hospital','num_lab_procedures','num_procedures','num_medications',\n",
    "        'number_outpatient','number_emergency','number_inpatient',\n",
    "        'number_diagnoses']].describe()"
   ]
  },
  {
   "cell_type": "code",
   "execution_count": 107,
   "metadata": {},
   "outputs": [
    {
     "data": {
      "text/plain": [
       "71518"
      ]
     },
     "execution_count": 107,
     "metadata": {},
     "output_type": "execute_result"
    }
   ],
   "source": [
    "#no of unique patient\n",
    "len(np.unique(data['patient_nbr']))"
   ]
  },
  {
   "cell_type": "code",
   "execution_count": 108,
   "metadata": {
    "collapsed": true
   },
   "outputs": [],
   "source": [
    "data = data.drop_duplicates(subset = 'patient_nbr', keep = 'first')"
   ]
  },
  {
   "cell_type": "code",
   "execution_count": 109,
   "metadata": {
    "collapsed": true
   },
   "outputs": [],
   "source": [
    "data['readmitted'] = pd.Series([0 if val in ['NO', '>30'] else  val \n",
    "                         for val in data['readmitted']], index=data.index)\n",
    "data['readmitted'] = pd.Series([1 if val in ['<30'] else  val \n",
    "                         for val in data['readmitted']], index=data.index)"
   ]
  },
  {
   "cell_type": "code",
   "execution_count": 110,
   "metadata": {},
   "outputs": [
    {
     "data": {
      "text/plain": [
       "0    65225\n",
       "1     6293\n",
       "Name: readmitted, dtype: int64"
      ]
     },
     "execution_count": 110,
     "metadata": {},
     "output_type": "execute_result"
    }
   ],
   "source": [
    "data.readmitted.value_counts()"
   ]
  },
  {
   "cell_type": "code",
   "execution_count": 119,
   "metadata": {},
   "outputs": [
    {
     "data": {
      "text/plain": [
       "414      5233\n",
       "428      3980\n",
       "786      3040\n",
       "410      2902\n",
       "486      2439\n",
       "427      2053\n",
       "715      1908\n",
       "434      1581\n",
       "682      1470\n",
       "780      1421\n",
       "491      1334\n",
       "276      1204\n",
       "996      1125\n",
       "38       1116\n",
       "250.8    1084\n",
       "599       998\n",
       "584       963\n",
       "820       824\n",
       "574       775\n",
       "435       754\n",
       "562       711\n",
       "577       690\n",
       "493       677\n",
       "518       664\n",
       "722       660\n",
       "V57       659\n",
       "296       635\n",
       "250.6     634\n",
       "433       616\n",
       "440       613\n",
       "         ... \n",
       "217         1\n",
       "791         1\n",
       "839         1\n",
       "911         1\n",
       "971         1\n",
       "975         1\n",
       "605         1\n",
       "131         1\n",
       "703         1\n",
       "145         1\n",
       "917         1\n",
       "637         1\n",
       "V25         1\n",
       "366         1\n",
       "684         1\n",
       "114         1\n",
       "804         1\n",
       "160         1\n",
       "691         1\n",
       "299         1\n",
       "923         1\n",
       "57          1\n",
       "939         1\n",
       "982         1\n",
       "833         1\n",
       "V70         1\n",
       "832         1\n",
       "207         1\n",
       "133         1\n",
       "V66         1\n",
       "Name: diag_1, Length: 697, dtype: int64"
      ]
     },
     "execution_count": 119,
     "metadata": {},
     "output_type": "execute_result"
    }
   ],
   "source": [
    "a=data.diag_1.value_counts()\n",
    "a"
   ]
  },
  {
   "cell_type": "code",
   "execution_count": 71,
   "metadata": {
    "collapsed": true
   },
   "outputs": [],
   "source": [
    "# remove irrelevant features\n",
    "data.drop(['encounter_id','patient_nbr', 'weight', 'payer_code','max_glu_serum','A1Cresult'], axis=1, inplace=True)"
   ]
  },
  {
   "cell_type": "code",
   "execution_count": 72,
   "metadata": {
    "collapsed": true
   },
   "outputs": [],
   "source": [
    "# remove rows that have NA in 'race', 'diag_1', 'diag_2', or 'diag_3' and 'gender'\n",
    "# remove rows that have invalid values in 'gender'\n",
    "data = data[data['race'] != '?']\n",
    "data = data[data['diag_1'] != '?']\n",
    "data = data[data['diag_2'] != '?']\n",
    "data = data[data['diag_3'] != '?']\n",
    "data = data[data['gender'] != 'Unknown/Invalid']"
   ]
  },
  {
   "cell_type": "code",
   "execution_count": 73,
   "metadata": {
    "collapsed": true
   },
   "outputs": [],
   "source": [
    "# Recategorize 'age' so that the population is more evenly distributed\n",
    "data['age'] = pd.Series(['[20-60)' if val in ['[20-30)', '[30-40)', '[40-50)', '[50-60)'] else val \n",
    "                         for val in data['age']], index=data.index)\n",
    "data['age'] = pd.Series(['[60-100)' if val in ['[60-70)','[70-80)','[80-90)', '[90-100)'] else val \n",
    "                         for val in data['age']], index=data.index)"
   ]
  },
  {
   "cell_type": "code",
   "execution_count": 74,
   "metadata": {
    "collapsed": true
   },
   "outputs": [],
   "source": [
    "# remove the other medications\n",
    "data.drop(['metformin', 'repaglinide', 'nateglinide', 'chlorpropamide', 'glimepiride', \n",
    "           'acetohexamide', 'glipizide', 'glyburide', 'tolbutamide', 'pioglitazone', \n",
    "           'rosiglitazone', 'acarbose', 'miglitol', 'troglitazone', 'tolazamide', 'examide', \n",
    "           'citoglipton', 'glyburide-metformin', 'glipizide-metformin', 'glimepiride-pioglitazone',\n",
    "           'metformin-rosiglitazone', 'metformin-pioglitazone','insulin'], axis=1, inplace=True)"
   ]
  },
  {
   "cell_type": "code",
   "execution_count": 75,
   "metadata": {
    "collapsed": true
   },
   "outputs": [],
   "source": [
    "# Recategorize 'age' so that the population is more evenly distributed\n",
    "data['discharge_disposition_id'] = pd.Series(['Home' if val in [1] else val \n",
    "                         for val in data['discharge_disposition_id']], index=data.index)\n",
    "\n",
    "data['discharge_disposition_id'] = pd.Series(['Anather' if val in [2,3,4,5,6] else val \n",
    "                         for val in data['discharge_disposition_id']], index=data.index)\n",
    "\n",
    "data['discharge_disposition_id'] = pd.Series(['Expired' if val in [11,19,20,21] else val \n",
    "                         for val in data['discharge_disposition_id']], index=data.index)\n",
    "\n",
    "data['discharge_disposition_id'] = pd.Series(['NaN' if val in [18,25,26] else val\n",
    "                         for val in data['discharge_disposition_id']], index=data.index)\n",
    "                        \n",
    "data['discharge_disposition_id'] = pd.Series(['other' if val in [7,8,9,10,12,13,14,15,16,17,22,23,24,27,28,29,30] else val \n",
    "                         for val in data['discharge_disposition_id']], index=data.index)"
   ]
  },
  {
   "cell_type": "code",
   "execution_count": 76,
   "metadata": {
    "collapsed": true
   },
   "outputs": [],
   "source": [
    "# original 'admission_source_id' contains 25 levels\n",
    "# reduce 'admission_source_id' into 3 categories\n",
    "data['admission_source_id'] = pd.Series(['Emergency Room' if val == 7 else 'Referral' if val in [1,2,3] else \n",
    "                                         'NaN' if val in [15,17,20,21] else 'Other source' \n",
    "                                              for val in data['admission_source_id']], index=data.index)"
   ]
  },
  {
   "cell_type": "code",
   "execution_count": 77,
   "metadata": {
    "collapsed": true
   },
   "outputs": [],
   "source": [
    "# original 'admission_type_id' contains 8 levels\n",
    "# reduce 'admission_type_id' into 2 categories\n",
    "data['admission_type_id'] = pd.Series(['Emergency' if val == 1 else 'Other type' \n",
    "                                              for val in data['admission_type_id']], index=data.index)"
   ]
  },
  {
   "cell_type": "code",
   "execution_count": 78,
   "metadata": {
    "collapsed": true
   },
   "outputs": [],
   "source": [
    "# Extract codes related to heart disease\n",
    "data = data.loc[data['diag_1'].isin(['410','411','412','413','414','415','420','421','422','423','424','425','426','427','428','429','430']) | data['diag_2'].isin(['410','411','412','413','414','415','420','421','422','423','424','425','426','427','428','429','430']) | data['diag_3'].isin(['410','411','412','413','414','415','420','421','422','423','424','425','426','427','428','429','430'])]\n"
   ]
  },
  {
   "cell_type": "code",
   "execution_count": 79,
   "metadata": {},
   "outputs": [
    {
     "data": {
      "text/plain": [
       "(26703, 21)"
      ]
     },
     "execution_count": 79,
     "metadata": {},
     "output_type": "execute_result"
    }
   ],
   "source": [
    "data.shape"
   ]
  },
  {
   "cell_type": "code",
   "execution_count": 80,
   "metadata": {},
   "outputs": [
    {
     "data": {
      "text/plain": [
       "race                        object\n",
       "gender                      object\n",
       "age                         object\n",
       "admission_type_id           object\n",
       "discharge_disposition_id    object\n",
       "admission_source_id         object\n",
       "time_in_hospital             int64\n",
       "medical_specialty           object\n",
       "num_lab_procedures           int64\n",
       "num_procedures               int64\n",
       "num_medications              int64\n",
       "number_outpatient            int64\n",
       "number_emergency             int64\n",
       "number_inpatient             int64\n",
       "diag_1                      object\n",
       "diag_2                      object\n",
       "diag_3                      object\n",
       "number_diagnoses             int64\n",
       "change                      object\n",
       "diabetesMed                 object\n",
       "readmitted                   int64\n",
       "dtype: object"
      ]
     },
     "execution_count": 80,
     "metadata": {},
     "output_type": "execute_result"
    }
   ],
   "source": [
    "#data type\n",
    "data.dtypes"
   ]
  },
  {
   "cell_type": "code",
   "execution_count": 81,
   "metadata": {},
   "outputs": [
    {
     "data": {
      "text/html": [
       "<div>\n",
       "<style>\n",
       "    .dataframe thead tr:only-child th {\n",
       "        text-align: right;\n",
       "    }\n",
       "\n",
       "    .dataframe thead th {\n",
       "        text-align: left;\n",
       "    }\n",
       "\n",
       "    .dataframe tbody tr th {\n",
       "        vertical-align: top;\n",
       "    }\n",
       "</style>\n",
       "<table border=\"1\" class=\"dataframe\">\n",
       "  <thead>\n",
       "    <tr style=\"text-align: right;\">\n",
       "      <th></th>\n",
       "      <th>race</th>\n",
       "      <th>gender</th>\n",
       "      <th>age</th>\n",
       "      <th>admission_type_id</th>\n",
       "      <th>discharge_disposition_id</th>\n",
       "      <th>admission_source_id</th>\n",
       "      <th>time_in_hospital</th>\n",
       "      <th>medical_specialty</th>\n",
       "      <th>num_lab_procedures</th>\n",
       "      <th>num_procedures</th>\n",
       "      <th>num_medications</th>\n",
       "      <th>number_outpatient</th>\n",
       "      <th>number_emergency</th>\n",
       "      <th>number_inpatient</th>\n",
       "      <th>diag_1</th>\n",
       "      <th>diag_2</th>\n",
       "      <th>diag_3</th>\n",
       "      <th>number_diagnoses</th>\n",
       "      <th>change</th>\n",
       "      <th>diabetesMed</th>\n",
       "      <th>readmitted</th>\n",
       "    </tr>\n",
       "  </thead>\n",
       "  <tbody>\n",
       "    <tr>\n",
       "      <th>5</th>\n",
       "      <td>Caucasian</td>\n",
       "      <td>Male</td>\n",
       "      <td>[20-60)</td>\n",
       "      <td>Other type</td>\n",
       "      <td>Home</td>\n",
       "      <td>Referral</td>\n",
       "      <td>3</td>\n",
       "      <td>?</td>\n",
       "      <td>31</td>\n",
       "      <td>6</td>\n",
       "      <td>16</td>\n",
       "      <td>0</td>\n",
       "      <td>0</td>\n",
       "      <td>0</td>\n",
       "      <td>414</td>\n",
       "      <td>411</td>\n",
       "      <td>250</td>\n",
       "      <td>9</td>\n",
       "      <td>No</td>\n",
       "      <td>Yes</td>\n",
       "      <td>0</td>\n",
       "    </tr>\n",
       "    <tr>\n",
       "      <th>6</th>\n",
       "      <td>Caucasian</td>\n",
       "      <td>Male</td>\n",
       "      <td>[60-100)</td>\n",
       "      <td>Other type</td>\n",
       "      <td>Home</td>\n",
       "      <td>Referral</td>\n",
       "      <td>4</td>\n",
       "      <td>?</td>\n",
       "      <td>70</td>\n",
       "      <td>1</td>\n",
       "      <td>21</td>\n",
       "      <td>0</td>\n",
       "      <td>0</td>\n",
       "      <td>0</td>\n",
       "      <td>414</td>\n",
       "      <td>411</td>\n",
       "      <td>V45</td>\n",
       "      <td>7</td>\n",
       "      <td>Ch</td>\n",
       "      <td>Yes</td>\n",
       "      <td>0</td>\n",
       "    </tr>\n",
       "    <tr>\n",
       "      <th>7</th>\n",
       "      <td>Caucasian</td>\n",
       "      <td>Male</td>\n",
       "      <td>[60-100)</td>\n",
       "      <td>Emergency</td>\n",
       "      <td>Home</td>\n",
       "      <td>Emergency Room</td>\n",
       "      <td>5</td>\n",
       "      <td>?</td>\n",
       "      <td>73</td>\n",
       "      <td>0</td>\n",
       "      <td>12</td>\n",
       "      <td>0</td>\n",
       "      <td>0</td>\n",
       "      <td>0</td>\n",
       "      <td>428</td>\n",
       "      <td>492</td>\n",
       "      <td>250</td>\n",
       "      <td>8</td>\n",
       "      <td>No</td>\n",
       "      <td>Yes</td>\n",
       "      <td>0</td>\n",
       "    </tr>\n",
       "    <tr>\n",
       "      <th>8</th>\n",
       "      <td>Caucasian</td>\n",
       "      <td>Female</td>\n",
       "      <td>[60-100)</td>\n",
       "      <td>Other type</td>\n",
       "      <td>Home</td>\n",
       "      <td>Other source</td>\n",
       "      <td>13</td>\n",
       "      <td>?</td>\n",
       "      <td>68</td>\n",
       "      <td>2</td>\n",
       "      <td>28</td>\n",
       "      <td>0</td>\n",
       "      <td>0</td>\n",
       "      <td>0</td>\n",
       "      <td>398</td>\n",
       "      <td>427</td>\n",
       "      <td>38</td>\n",
       "      <td>8</td>\n",
       "      <td>Ch</td>\n",
       "      <td>Yes</td>\n",
       "      <td>0</td>\n",
       "    </tr>\n",
       "    <tr>\n",
       "      <th>12</th>\n",
       "      <td>Caucasian</td>\n",
       "      <td>Female</td>\n",
       "      <td>[20-60)</td>\n",
       "      <td>Emergency</td>\n",
       "      <td>Anather</td>\n",
       "      <td>Emergency Room</td>\n",
       "      <td>7</td>\n",
       "      <td>Family/GeneralPractice</td>\n",
       "      <td>60</td>\n",
       "      <td>0</td>\n",
       "      <td>15</td>\n",
       "      <td>0</td>\n",
       "      <td>1</td>\n",
       "      <td>0</td>\n",
       "      <td>428</td>\n",
       "      <td>250.43</td>\n",
       "      <td>250.6</td>\n",
       "      <td>8</td>\n",
       "      <td>Ch</td>\n",
       "      <td>Yes</td>\n",
       "      <td>1</td>\n",
       "    </tr>\n",
       "  </tbody>\n",
       "</table>\n",
       "</div>"
      ],
      "text/plain": [
       "         race  gender       age admission_type_id discharge_disposition_id  \\\n",
       "5   Caucasian    Male   [20-60)        Other type                     Home   \n",
       "6   Caucasian    Male  [60-100)        Other type                     Home   \n",
       "7   Caucasian    Male  [60-100)         Emergency                     Home   \n",
       "8   Caucasian  Female  [60-100)        Other type                     Home   \n",
       "12  Caucasian  Female   [20-60)         Emergency                  Anather   \n",
       "\n",
       "   admission_source_id  time_in_hospital       medical_specialty  \\\n",
       "5             Referral                 3                       ?   \n",
       "6             Referral                 4                       ?   \n",
       "7       Emergency Room                 5                       ?   \n",
       "8         Other source                13                       ?   \n",
       "12      Emergency Room                 7  Family/GeneralPractice   \n",
       "\n",
       "    num_lab_procedures  num_procedures  num_medications  number_outpatient  \\\n",
       "5                   31               6               16                  0   \n",
       "6                   70               1               21                  0   \n",
       "7                   73               0               12                  0   \n",
       "8                   68               2               28                  0   \n",
       "12                  60               0               15                  0   \n",
       "\n",
       "    number_emergency  number_inpatient diag_1  diag_2 diag_3  \\\n",
       "5                  0                 0    414     411    250   \n",
       "6                  0                 0    414     411    V45   \n",
       "7                  0                 0    428     492    250   \n",
       "8                  0                 0    398     427     38   \n",
       "12                 1                 0    428  250.43  250.6   \n",
       "\n",
       "    number_diagnoses change diabetesMed  readmitted  \n",
       "5                  9     No         Yes           0  \n",
       "6                  7     Ch         Yes           0  \n",
       "7                  8     No         Yes           0  \n",
       "8                  8     Ch         Yes           0  \n",
       "12                 8     Ch         Yes           1  "
      ]
     },
     "execution_count": 81,
     "metadata": {},
     "output_type": "execute_result"
    }
   ],
   "source": [
    "data.head()"
   ]
  },
  {
   "cell_type": "code",
   "execution_count": 82,
   "metadata": {
    "collapsed": true
   },
   "outputs": [],
   "source": [
    "import random\n",
    "#create variable emergency visits\n",
    "data['emergency_visits'] = [random.randint(0, 5) for _ in range(26703)]"
   ]
  },
  {
   "cell_type": "code",
   "execution_count": 83,
   "metadata": {
    "collapsed": true
   },
   "outputs": [],
   "source": [
    "#create variable emergency visits\n",
    "data['acuity_of_admission'] = [random.randint(1, 5) for _ in range(26703)]"
   ]
  },
  {
   "cell_type": "code",
   "execution_count": 84,
   "metadata": {
    "collapsed": true
   },
   "outputs": [],
   "source": [
    "#create variable emergency visits\n",
    "data['comorbidity'] = [random.randint(1, 15) for _ in range(26703)]"
   ]
  },
  {
   "cell_type": "code",
   "execution_count": 85,
   "metadata": {
    "collapsed": true
   },
   "outputs": [],
   "source": [
    "data[\"age\"] = data[\"age\"].astype('category')\n",
    "data[\"race\"] = data[\"race\"].astype('category')\n",
    "data[\"gender\"] = data[\"gender\"].astype('category')\n",
    "data[\"medical_specialty\"] = data[\"medical_specialty\"].astype('category')\n",
    "data[\"change\"] = data[\"change\"].astype('category')\n",
    "data[\"diabetesMed\"] = data[\"diabetesMed\"].astype('category')\n",
    "data[\"discharge_disposition_id\"] = data[\"discharge_disposition_id\"].astype('category')\n",
    "data[\"admission_source_id\"] = data[\"admission_source_id\"].astype('category')\n",
    "data[\"admission_type_id\"] = data[\"admission_type_id\"].astype('category')\n",
    "data[\"diag_1\"] = data[\"diag_1\"].astype('category')\n",
    "data[\"diag_2\"] = data[\"diag_2\"].astype('category')\n",
    "data[\"diag_3\"] = data[\"diag_3\"].astype('category')"
   ]
  },
  {
   "cell_type": "code",
   "execution_count": 86,
   "metadata": {
    "collapsed": true
   },
   "outputs": [],
   "source": [
    "data[\"age1\"] = data[\"age\"].cat.codes\n",
    "data[\"race1\"] = data[\"race\"].cat.codes\n",
    "data[\"gender1\"] = data[\"gender\"].cat.codes\n",
    "data[\"medical_specialty1\"] = data[\"medical_specialty\"].cat.codes\n",
    "data[\"change1\"] = data[\"change\"].cat.codes\n",
    "data[\"diabetesMed1\"] = data[\"diabetesMed\"].cat.codes\n",
    "data[\"discharge_disposition_id1\"] = data[\"discharge_disposition_id\"].cat.codes\n",
    "data[\"admission_source_id1\"] = data[\"admission_source_id\"].cat.codes\n",
    "data[\"admission_type_id1\"] = data[\"admission_type_id\"].cat.codes\n",
    "data[\"diag_11\"] = data[\"diag_1\"].cat.codes\n",
    "data[\"diag_21\"] = data[\"diag_2\"].cat.codes\n",
    "data[\"diag_31\"] = data[\"diag_3\"].cat.codes\n",
    "\n",
    "\n",
    "\n",
    "data.drop(['age', 'medical_specialty', 'race', 'gender','change', \n",
    "                  'diabetesMed', 'discharge_disposition_id', 'admission_source_id', \n",
    "                  'admission_type_id', 'diag_1', 'diag_2', 'diag_3'], axis=1, inplace=True)\n",
    "\n"
   ]
  },
  {
   "cell_type": "code",
   "execution_count": 87,
   "metadata": {
    "collapsed": true
   },
   "outputs": [],
   "source": [
    "# apply square root transformation on right skewed count data to reduce the effects of extreme values.\n",
    "# here log transformation is not appropriate because the data is Poisson distributed and contains many zero values.\n",
    "data['number_outpatient'] = data['number_outpatient'].apply(lambda x: np.sqrt(x + 0.5))\n",
    "data['number_emergency'] = data['number_emergency'].apply(lambda x: np.sqrt(x + 0.5))\n",
    "data['number_inpatient'] = data['number_inpatient'].apply(lambda x: np.sqrt(x + 0.5))"
   ]
  },
  {
   "cell_type": "code",
   "execution_count": 88,
   "metadata": {
    "collapsed": true
   },
   "outputs": [],
   "source": [
    "# feature scaling, features are standardized to have zero mean and unit variance\n",
    "feature_scale_cols = ['time_in_hospital', 'num_lab_procedures', 'num_procedures', 'num_medications', \n",
    "                      'number_diagnoses', 'number_inpatient', 'number_emergency', 'number_outpatient']\n",
    "\n",
    "from sklearn import preprocessing\n",
    "scaler = preprocessing.StandardScaler().fit(data[feature_scale_cols])\n",
    "data_scaler = scaler.transform(data[feature_scale_cols])\n",
    "\n",
    "data_scaler_df = pd.DataFrame(data=data_scaler, columns=feature_scale_cols, index=data.index)\n",
    "data.drop(feature_scale_cols, axis=1, inplace=True)\n",
    "data = pd.concat([data, data_scaler_df], axis=1)"
   ]
  },
  {
   "cell_type": "code",
   "execution_count": 89,
   "metadata": {
    "collapsed": true
   },
   "outputs": [],
   "source": [
    "# create X (features) and y (response)\n",
    "X = data.drop(['readmitted'], axis=1)\n",
    "y = data['readmitted']"
   ]
  },
  {
   "cell_type": "code",
   "execution_count": 90,
   "metadata": {
    "collapsed": true
   },
   "outputs": [],
   "source": [
    "# split X and y into cross-validation (75%) and testing (25%) data sets\n",
    "from sklearn.cross_validation import train_test_split\n",
    "X_cv, X_test, y_cv, y_test = train_test_split(X, y, test_size=0.25)"
   ]
  },
  {
   "cell_type": "code",
   "execution_count": 91,
   "metadata": {},
   "outputs": [
    {
     "name": "stdout",
     "output_type": "stream",
     "text": [
      "Top 10 features are: \n",
      "num_lab_procedures\n",
      "num_medications\n",
      "diag_31\n",
      "diag_21\n",
      "diag_11\n",
      "comorbidity\n",
      "time_in_hospital\n",
      "emergency_visits\n",
      "acuity_of_admission\n",
      "medical_specialty1\n"
     ]
    },
    {
     "data": {
      "image/png": "[encoded data removed]",
      "text/plain": [
       "<matplotlib.figure.Figure at 0xec9df98>"
      ]
     },
     "metadata": {},
     "output_type": "display_data"
    }
   ],
   "source": [
    "# fit Random Forest model to the cross-validation data\n",
    "from sklearn.ensemble import RandomForestClassifier\n",
    "forest = RandomForestClassifier()\n",
    "forest.fit(X_cv, y_cv)\n",
    "importances = forest.feature_importances_\n",
    "\n",
    "# make importance relative to the max importance\n",
    "feature_importance = 100.0 * (importances / importances.max())\n",
    "sorted_idx = np.argsort(feature_importance)\n",
    "feature_names = list(X_cv.columns.values)\n",
    "feature_names_sort = [feature_names[indice] for indice in sorted_idx]\n",
    "pos = np.arange(sorted_idx.shape[0]) + .5\n",
    "print('Top 10 features are: ')\n",
    "for feature in feature_names_sort[::-1][:10]:\n",
    "    print(feature)\n",
    "\n",
    "# plot the result\n",
    "plt.figure(figsize=(12, 10))\n",
    "plt.barh(pos, feature_importance[sorted_idx], align='center')\n",
    "plt.yticks(pos, feature_names_sort)\n",
    "plt.title('Relative Feature Importance', fontsize=20)\n",
    "plt.show()"
   ]
  },
  {
   "cell_type": "code",
   "execution_count": 94,
   "metadata": {
    "collapsed": true
   },
   "outputs": [],
   "source": [
    "from sklearn.linear_model import LogisticRegression\n",
    "from imblearn.over_sampling import SMOTE\n",
    "from sklearn.model_selection import train_test_split\n",
    "from sklearn import metrics\n",
    "from collections import Counter\n",
    "from sklearn.ensemble import RandomForestClassifier\n",
    "from sklearn import metrics\n",
    "rf =  RandomForestClassifier()"
   ]
  },
  {
   "cell_type": "code",
   "execution_count": 95,
   "metadata": {},
   "outputs": [
    {
     "data": {
      "text/plain": [
       "0.90675321433029588"
      ]
     },
     "execution_count": 95,
     "metadata": {},
     "output_type": "execute_result"
    }
   ],
   "source": [
    "#regular logistic regression Method\n",
    "X_train, X_test, y_train, y_test = train_test_split(X, y, test_size = .3,  random_state=55)\n",
    "rf.fit(X_train, y_train)\n",
    "y_pred = rf.predict(X_test)\n",
    "acc3 = rf.score(X_test, y_test)\n",
    "acc3"
   ]
  },
  {
   "cell_type": "code",
   "execution_count": 96,
   "metadata": {},
   "outputs": [
    {
     "data": {
      "text/plain": [
       "-0.00076225082400172006"
      ]
     },
     "execution_count": 96,
     "metadata": {},
     "output_type": "execute_result"
    }
   ],
   "source": [
    "from sklearn.metrics import cohen_kappa_score\n",
    "cohen_kappa_score(y_test, y_pred)"
   ]
  },
  {
   "cell_type": "code",
   "execution_count": 97,
   "metadata": {
    "collapsed": true
   },
   "outputs": [],
   "source": [
    "#data Preparation\n",
    "X1 = X\n",
    "y1 = y\n",
    "data = pd.concat([X,y], axis = 1)\n",
    "df = Counter(y)\n",
    "c = min(y, key=df.get)\n",
    "d = [i for i,x in enumerate(y) if x == c]  #row index having rare class\n",
    "d1 = [i for i,x in enumerate(y) if x != c]\n",
    "Rare_Class_data = data.iloc[d]\n",
    "Mejor_Class_data = data.iloc[d1]"
   ]
  },
  {
   "cell_type": "code",
   "execution_count": 98,
   "metadata": {
    "collapsed": true
   },
   "outputs": [],
   "source": [
    "df = Rare_Class_data\n",
    "a=Rare_Class_data.shape[0]\n",
    "b = Mejor_Class_data.shape[0]\n",
    "n = round(b/a)\n",
    "sm = SMOTE(random_state=12, ratio = 1.0)\n",
    "rf =  RandomForestClassifier()\n",
    "\n",
    "acc1=0\n",
    "acc2=0"
   ]
  },
  {
   "cell_type": "code",
   "execution_count": 99,
   "metadata": {},
   "outputs": [
    {
     "name": "stderr",
     "output_type": "stream",
     "text": [
      "C:\\Users\\shwetag\\AppData\\Local\\Continuum\\anaconda3\\lib\\site-packages\\sklearn\\utils\\deprecation.py:77: DeprecationWarning: Function _ratio_float is deprecated; Use a float for 'ratio' is deprecated from version 0.2. The support will be removed in 0.4. Use a dict, str, or a callable instead.\n",
      "  warnings.warn(msg, category=DeprecationWarning)\n",
      "C:\\Users\\shwetag\\AppData\\Local\\Continuum\\anaconda3\\lib\\site-packages\\sklearn\\utils\\deprecation.py:77: DeprecationWarning: Function _ratio_float is deprecated; Use a float for 'ratio' is deprecated from version 0.2. The support will be removed in 0.4. Use a dict, str, or a callable instead.\n",
      "  warnings.warn(msg, category=DeprecationWarning)\n",
      "C:\\Users\\shwetag\\AppData\\Local\\Continuum\\anaconda3\\lib\\site-packages\\sklearn\\utils\\deprecation.py:77: DeprecationWarning: Function _ratio_float is deprecated; Use a float for 'ratio' is deprecated from version 0.2. The support will be removed in 0.4. Use a dict, str, or a callable instead.\n",
      "  warnings.warn(msg, category=DeprecationWarning)\n",
      "C:\\Users\\shwetag\\AppData\\Local\\Continuum\\anaconda3\\lib\\site-packages\\sklearn\\utils\\deprecation.py:77: DeprecationWarning: Function _ratio_float is deprecated; Use a float for 'ratio' is deprecated from version 0.2. The support will be removed in 0.4. Use a dict, str, or a callable instead.\n",
      "  warnings.warn(msg, category=DeprecationWarning)\n",
      "C:\\Users\\shwetag\\AppData\\Local\\Continuum\\anaconda3\\lib\\site-packages\\sklearn\\utils\\deprecation.py:77: DeprecationWarning: Function _ratio_float is deprecated; Use a float for 'ratio' is deprecated from version 0.2. The support will be removed in 0.4. Use a dict, str, or a callable instead.\n",
      "  warnings.warn(msg, category=DeprecationWarning)\n",
      "C:\\Users\\shwetag\\AppData\\Local\\Continuum\\anaconda3\\lib\\site-packages\\sklearn\\utils\\deprecation.py:77: DeprecationWarning: Function _ratio_float is deprecated; Use a float for 'ratio' is deprecated from version 0.2. The support will be removed in 0.4. Use a dict, str, or a callable instead.\n",
      "  warnings.warn(msg, category=DeprecationWarning)\n",
      "C:\\Users\\shwetag\\AppData\\Local\\Continuum\\anaconda3\\lib\\site-packages\\sklearn\\utils\\deprecation.py:77: DeprecationWarning: Function _ratio_float is deprecated; Use a float for 'ratio' is deprecated from version 0.2. The support will be removed in 0.4. Use a dict, str, or a callable instead.\n",
      "  warnings.warn(msg, category=DeprecationWarning)\n",
      "C:\\Users\\shwetag\\AppData\\Local\\Continuum\\anaconda3\\lib\\site-packages\\sklearn\\utils\\deprecation.py:77: DeprecationWarning: Function _ratio_float is deprecated; Use a float for 'ratio' is deprecated from version 0.2. The support will be removed in 0.4. Use a dict, str, or a callable instead.\n",
      "  warnings.warn(msg, category=DeprecationWarning)\n",
      "C:\\Users\\shwetag\\AppData\\Local\\Continuum\\anaconda3\\lib\\site-packages\\sklearn\\utils\\deprecation.py:77: DeprecationWarning: Function _ratio_float is deprecated; Use a float for 'ratio' is deprecated from version 0.2. The support will be removed in 0.4. Use a dict, str, or a callable instead.\n",
      "  warnings.warn(msg, category=DeprecationWarning)\n"
     ]
    }
   ],
   "source": [
    " for i in range(1,n):\n",
    "             df1 = Rare_Class_data.copy()\n",
    "             df = data.append(df1)\n",
    "             data = df\n",
    "             n=df.shape[1]\n",
    "             X1=df.iloc[:,1:(n-2)]\n",
    "             y1=df.iloc[:,(n-1)]\n",
    "             \n",
    "             X_train, X_test, y_train, y_test = train_test_split(X1, y1, test_size = .3,random_state=i)\n",
    "             X_train_res, y_train_res = sm.fit_sample(X_train, y_train)\n",
    "             rf.fit(X_train_res, y_train_res)\n",
    "             y_pred = rf.predict(X_test)\n",
    "             acc1 = rf.score(X_test, y_test)"
   ]
  },
  {
   "cell_type": "code",
   "execution_count": 100,
   "metadata": {},
   "outputs": [
    {
     "data": {
      "text/plain": [
       "0.9936613958560524"
      ]
     },
     "execution_count": 100,
     "metadata": {},
     "output_type": "execute_result"
    }
   ],
   "source": [
    "acc1     # SMOTE method"
   ]
  },
  {
   "cell_type": "code",
   "execution_count": 101,
   "metadata": {},
   "outputs": [
    {
     "data": {
      "text/plain": [
       "0.98731947083350791"
      ]
     },
     "execution_count": 101,
     "metadata": {},
     "output_type": "execute_result"
    }
   ],
   "source": [
    "from sklearn.metrics import cohen_kappa_score\n",
    "cohen_kappa_score(y_test, y_pred)"
   ]
  },
  {
   "cell_type": "code",
   "execution_count": null,
   "metadata": {
    "collapsed": true
   },
   "outputs": [],
   "source": []
  },
  {
   "cell_type": "code",
   "execution_count": null,
   "metadata": {
    "collapsed": true
   },
   "outputs": [],
   "source": []
  },
  {
   "cell_type": "code",
   "execution_count": null,
   "metadata": {
    "collapsed": true
   },
   "outputs": [],
   "source": []
  },
  {
   "cell_type": "code",
   "execution_count": null,
   "metadata": {
    "collapsed": true
   },
   "outputs": [],
   "source": []
  },
  {
   "cell_type": "code",
   "execution_count": 26,
   "metadata": {
    "collapsed": true
   },
   "outputs": [],
   "source": [
    "\n",
    "import datetime;\n",
    "a=datetime.datetime.strptime(\"2003-3-25\", '%Y-%m-%d')\n",
    "date = [(a - datetime.timedelta(days=x)).strftime('%Y-%m-%d') for x in range(-5000, 0)]\n"
   ]
  },
  {
   "cell_type": "code",
   "execution_count": 27,
   "metadata": {},
   "outputs": [
    {
     "data": {
      "text/plain": [
       "array(['2016-02-29', '2013-11-15', '2008-07-19', ..., '2006-09-30',\n",
       "       '2016-02-11', '2004-04-07'],\n",
       "      dtype='<U10')"
      ]
     },
     "execution_count": 27,
     "metadata": {},
     "output_type": "execute_result"
    }
   ],
   "source": [
    "ss=np.random.choice(date, 26703)\n",
    "ss.shape\n",
    "ss"
   ]
  },
  {
   "cell_type": "code",
   "execution_count": 28,
   "metadata": {},
   "outputs": [
    {
     "data": {
      "text/plain": [
       "(26703, 24)"
      ]
     },
     "execution_count": 28,
     "metadata": {},
     "output_type": "execute_result"
    }
   ],
   "source": [
    "data.shape"
   ]
  },
  {
   "cell_type": "code",
   "execution_count": 29,
   "metadata": {
    "collapsed": true
   },
   "outputs": [],
   "source": [
    "#create variable emergency visits\n",
    "data['date'] = ss"
   ]
  },
  {
   "cell_type": "code",
   "execution_count": 30,
   "metadata": {},
   "outputs": [
    {
     "data": {
      "text/html": [
       "<div>\n",
       "<style>\n",
       "    .dataframe thead tr:only-child th {\n",
       "        text-align: right;\n",
       "    }\n",
       "\n",
       "    .dataframe thead th {\n",
       "        text-align: left;\n",
       "    }\n",
       "\n",
       "    .dataframe tbody tr th {\n",
       "        vertical-align: top;\n",
       "    }\n",
       "</style>\n",
       "<table border=\"1\" class=\"dataframe\">\n",
       "  <thead>\n",
       "    <tr style=\"text-align: right;\">\n",
       "      <th></th>\n",
       "      <th>race</th>\n",
       "      <th>gender</th>\n",
       "      <th>age</th>\n",
       "      <th>admission_type_id</th>\n",
       "      <th>discharge_disposition_id</th>\n",
       "      <th>admission_source_id</th>\n",
       "      <th>time_in_hospital</th>\n",
       "      <th>medical_specialty</th>\n",
       "      <th>num_lab_procedures</th>\n",
       "      <th>num_procedures</th>\n",
       "      <th>num_medications</th>\n",
       "      <th>number_outpatient</th>\n",
       "      <th>number_emergency</th>\n",
       "      <th>number_inpatient</th>\n",
       "      <th>diag_1</th>\n",
       "      <th>diag_2</th>\n",
       "      <th>diag_3</th>\n",
       "      <th>number_diagnoses</th>\n",
       "      <th>change</th>\n",
       "      <th>diabetesMed</th>\n",
       "      <th>readmitted</th>\n",
       "      <th>emergency_visits</th>\n",
       "      <th>acuity_of_admission</th>\n",
       "      <th>comorbidity</th>\n",
       "      <th>date</th>\n",
       "    </tr>\n",
       "  </thead>\n",
       "  <tbody>\n",
       "    <tr>\n",
       "      <th>5</th>\n",
       "      <td>Caucasian</td>\n",
       "      <td>Male</td>\n",
       "      <td>[20-60)</td>\n",
       "      <td>Other type</td>\n",
       "      <td>Home</td>\n",
       "      <td>Referral</td>\n",
       "      <td>3</td>\n",
       "      <td>?</td>\n",
       "      <td>31</td>\n",
       "      <td>6</td>\n",
       "      <td>16</td>\n",
       "      <td>0</td>\n",
       "      <td>0</td>\n",
       "      <td>0</td>\n",
       "      <td>414</td>\n",
       "      <td>411</td>\n",
       "      <td>250</td>\n",
       "      <td>9</td>\n",
       "      <td>No</td>\n",
       "      <td>Yes</td>\n",
       "      <td>0</td>\n",
       "      <td>3</td>\n",
       "      <td>1</td>\n",
       "      <td>3</td>\n",
       "      <td>2016-02-29</td>\n",
       "    </tr>\n",
       "    <tr>\n",
       "      <th>6</th>\n",
       "      <td>Caucasian</td>\n",
       "      <td>Male</td>\n",
       "      <td>[60-100)</td>\n",
       "      <td>Other type</td>\n",
       "      <td>Home</td>\n",
       "      <td>Referral</td>\n",
       "      <td>4</td>\n",
       "      <td>?</td>\n",
       "      <td>70</td>\n",
       "      <td>1</td>\n",
       "      <td>21</td>\n",
       "      <td>0</td>\n",
       "      <td>0</td>\n",
       "      <td>0</td>\n",
       "      <td>414</td>\n",
       "      <td>411</td>\n",
       "      <td>V45</td>\n",
       "      <td>7</td>\n",
       "      <td>Ch</td>\n",
       "      <td>Yes</td>\n",
       "      <td>0</td>\n",
       "      <td>5</td>\n",
       "      <td>1</td>\n",
       "      <td>11</td>\n",
       "      <td>2013-11-15</td>\n",
       "    </tr>\n",
       "    <tr>\n",
       "      <th>7</th>\n",
       "      <td>Caucasian</td>\n",
       "      <td>Male</td>\n",
       "      <td>[60-100)</td>\n",
       "      <td>Emergency</td>\n",
       "      <td>Home</td>\n",
       "      <td>Emergency Room</td>\n",
       "      <td>5</td>\n",
       "      <td>?</td>\n",
       "      <td>73</td>\n",
       "      <td>0</td>\n",
       "      <td>12</td>\n",
       "      <td>0</td>\n",
       "      <td>0</td>\n",
       "      <td>0</td>\n",
       "      <td>428</td>\n",
       "      <td>492</td>\n",
       "      <td>250</td>\n",
       "      <td>8</td>\n",
       "      <td>No</td>\n",
       "      <td>Yes</td>\n",
       "      <td>0</td>\n",
       "      <td>3</td>\n",
       "      <td>1</td>\n",
       "      <td>7</td>\n",
       "      <td>2008-07-19</td>\n",
       "    </tr>\n",
       "    <tr>\n",
       "      <th>8</th>\n",
       "      <td>Caucasian</td>\n",
       "      <td>Female</td>\n",
       "      <td>[60-100)</td>\n",
       "      <td>Other type</td>\n",
       "      <td>Home</td>\n",
       "      <td>Other source</td>\n",
       "      <td>13</td>\n",
       "      <td>?</td>\n",
       "      <td>68</td>\n",
       "      <td>2</td>\n",
       "      <td>28</td>\n",
       "      <td>0</td>\n",
       "      <td>0</td>\n",
       "      <td>0</td>\n",
       "      <td>398</td>\n",
       "      <td>427</td>\n",
       "      <td>38</td>\n",
       "      <td>8</td>\n",
       "      <td>Ch</td>\n",
       "      <td>Yes</td>\n",
       "      <td>0</td>\n",
       "      <td>3</td>\n",
       "      <td>2</td>\n",
       "      <td>11</td>\n",
       "      <td>2005-09-24</td>\n",
       "    </tr>\n",
       "    <tr>\n",
       "      <th>12</th>\n",
       "      <td>Caucasian</td>\n",
       "      <td>Female</td>\n",
       "      <td>[20-60)</td>\n",
       "      <td>Emergency</td>\n",
       "      <td>Anather</td>\n",
       "      <td>Emergency Room</td>\n",
       "      <td>7</td>\n",
       "      <td>Family/GeneralPractice</td>\n",
       "      <td>60</td>\n",
       "      <td>0</td>\n",
       "      <td>15</td>\n",
       "      <td>0</td>\n",
       "      <td>1</td>\n",
       "      <td>0</td>\n",
       "      <td>428</td>\n",
       "      <td>250.43</td>\n",
       "      <td>250.6</td>\n",
       "      <td>8</td>\n",
       "      <td>Ch</td>\n",
       "      <td>Yes</td>\n",
       "      <td>1</td>\n",
       "      <td>0</td>\n",
       "      <td>1</td>\n",
       "      <td>11</td>\n",
       "      <td>2010-09-21</td>\n",
       "    </tr>\n",
       "  </tbody>\n",
       "</table>\n",
       "</div>"
      ],
      "text/plain": [
       "         race  gender       age admission_type_id discharge_disposition_id  \\\n",
       "5   Caucasian    Male   [20-60)        Other type                     Home   \n",
       "6   Caucasian    Male  [60-100)        Other type                     Home   \n",
       "7   Caucasian    Male  [60-100)         Emergency                     Home   \n",
       "8   Caucasian  Female  [60-100)        Other type                     Home   \n",
       "12  Caucasian  Female   [20-60)         Emergency                  Anather   \n",
       "\n",
       "   admission_source_id  time_in_hospital       medical_specialty  \\\n",
       "5             Referral                 3                       ?   \n",
       "6             Referral                 4                       ?   \n",
       "7       Emergency Room                 5                       ?   \n",
       "8         Other source                13                       ?   \n",
       "12      Emergency Room                 7  Family/GeneralPractice   \n",
       "\n",
       "    num_lab_procedures  num_procedures  num_medications  number_outpatient  \\\n",
       "5                   31               6               16                  0   \n",
       "6                   70               1               21                  0   \n",
       "7                   73               0               12                  0   \n",
       "8                   68               2               28                  0   \n",
       "12                  60               0               15                  0   \n",
       "\n",
       "    number_emergency  number_inpatient diag_1  diag_2 diag_3  \\\n",
       "5                  0                 0    414     411    250   \n",
       "6                  0                 0    414     411    V45   \n",
       "7                  0                 0    428     492    250   \n",
       "8                  0                 0    398     427     38   \n",
       "12                 1                 0    428  250.43  250.6   \n",
       "\n",
       "    number_diagnoses change diabetesMed  readmitted  emergency_visits  \\\n",
       "5                  9     No         Yes           0                 3   \n",
       "6                  7     Ch         Yes           0                 5   \n",
       "7                  8     No         Yes           0                 3   \n",
       "8                  8     Ch         Yes           0                 3   \n",
       "12                 8     Ch         Yes           1                 0   \n",
       "\n",
       "    acuity_of_admission  comorbidity        date  \n",
       "5                     1            3  2016-02-29  \n",
       "6                     1           11  2013-11-15  \n",
       "7                     1            7  2008-07-19  \n",
       "8                     2           11  2005-09-24  \n",
       "12                    1           11  2010-09-21  "
      ]
     },
     "execution_count": 30,
     "metadata": {},
     "output_type": "execute_result"
    }
   ],
   "source": [
    "data.head()          "
   ]
  },
  {
   "cell_type": "code",
   "execution_count": null,
   "metadata": {
    "collapsed": true
   },
   "outputs": [],
   "source": []
  },
  {
   "cell_type": "code",
   "execution_count": null,
   "metadata": {
    "collapsed": true
   },
   "outputs": [],
   "source": []
  },
  {
   "cell_type": "code",
   "execution_count": 31,
   "metadata": {},
   "outputs": [
    {
     "data": {
      "text/html": [
       "<div>\n",
       "<style>\n",
       "    .dataframe thead tr:only-child th {\n",
       "        text-align: right;\n",
       "    }\n",
       "\n",
       "    .dataframe thead th {\n",
       "        text-align: left;\n",
       "    }\n",
       "\n",
       "    .dataframe tbody tr th {\n",
       "        vertical-align: top;\n",
       "    }\n",
       "</style>\n",
       "<table border=\"1\" class=\"dataframe\">\n",
       "  <thead>\n",
       "    <tr style=\"text-align: right;\">\n",
       "      <th></th>\n",
       "      <th>date</th>\n",
       "      <th>admission_source_id</th>\n",
       "      <th>lenght_of_stay</th>\n",
       "      <th>medical_specialty</th>\n",
       "      <th>num_lab_procedures</th>\n",
       "      <th>num_procedures</th>\n",
       "      <th>number_outpatient</th>\n",
       "      <th>number_inpatient</th>\n",
       "      <th>diag_1</th>\n",
       "      <th>diag_2</th>\n",
       "      <th>diag_3</th>\n",
       "      <th>readmitted</th>\n",
       "      <th>emergency_visits</th>\n",
       "      <th>acuity_of_admission</th>\n",
       "      <th>comorbidity</th>\n",
       "    </tr>\n",
       "  </thead>\n",
       "  <tbody>\n",
       "    <tr>\n",
       "      <th>0</th>\n",
       "      <td>2003-03-26</td>\n",
       "      <td>Referral</td>\n",
       "      <td>3</td>\n",
       "      <td>?</td>\n",
       "      <td>31</td>\n",
       "      <td>6</td>\n",
       "      <td>0</td>\n",
       "      <td>0</td>\n",
       "      <td>414</td>\n",
       "      <td>411</td>\n",
       "      <td>250</td>\n",
       "      <td>0</td>\n",
       "      <td>4</td>\n",
       "      <td>1</td>\n",
       "      <td>14</td>\n",
       "    </tr>\n",
       "    <tr>\n",
       "      <th>1</th>\n",
       "      <td>2003-03-26</td>\n",
       "      <td>Referral</td>\n",
       "      <td>4</td>\n",
       "      <td>?</td>\n",
       "      <td>70</td>\n",
       "      <td>1</td>\n",
       "      <td>0</td>\n",
       "      <td>0</td>\n",
       "      <td>414</td>\n",
       "      <td>411</td>\n",
       "      <td>V45</td>\n",
       "      <td>0</td>\n",
       "      <td>1</td>\n",
       "      <td>3</td>\n",
       "      <td>12</td>\n",
       "    </tr>\n",
       "    <tr>\n",
       "      <th>2</th>\n",
       "      <td>2003-03-26</td>\n",
       "      <td>Emergency Room</td>\n",
       "      <td>5</td>\n",
       "      <td>?</td>\n",
       "      <td>73</td>\n",
       "      <td>0</td>\n",
       "      <td>0</td>\n",
       "      <td>0</td>\n",
       "      <td>428</td>\n",
       "      <td>492</td>\n",
       "      <td>250</td>\n",
       "      <td>0</td>\n",
       "      <td>0</td>\n",
       "      <td>4</td>\n",
       "      <td>10</td>\n",
       "    </tr>\n",
       "    <tr>\n",
       "      <th>3</th>\n",
       "      <td>2003-03-26</td>\n",
       "      <td>Other source</td>\n",
       "      <td>13</td>\n",
       "      <td>?</td>\n",
       "      <td>68</td>\n",
       "      <td>2</td>\n",
       "      <td>0</td>\n",
       "      <td>0</td>\n",
       "      <td>398</td>\n",
       "      <td>427</td>\n",
       "      <td>38</td>\n",
       "      <td>0</td>\n",
       "      <td>5</td>\n",
       "      <td>5</td>\n",
       "      <td>1</td>\n",
       "    </tr>\n",
       "    <tr>\n",
       "      <th>4</th>\n",
       "      <td>2003-03-26</td>\n",
       "      <td>Emergency Room</td>\n",
       "      <td>7</td>\n",
       "      <td>Family/GeneralPractice</td>\n",
       "      <td>60</td>\n",
       "      <td>0</td>\n",
       "      <td>0</td>\n",
       "      <td>0</td>\n",
       "      <td>428</td>\n",
       "      <td>250.43</td>\n",
       "      <td>250.6</td>\n",
       "      <td>1</td>\n",
       "      <td>3</td>\n",
       "      <td>5</td>\n",
       "      <td>8</td>\n",
       "    </tr>\n",
       "  </tbody>\n",
       "</table>\n",
       "</div>"
      ],
      "text/plain": [
       "         date admission_source_id  lenght_of_stay       medical_specialty  \\\n",
       "0  2003-03-26            Referral               3                       ?   \n",
       "1  2003-03-26            Referral               4                       ?   \n",
       "2  2003-03-26      Emergency Room               5                       ?   \n",
       "3  2003-03-26        Other source              13                       ?   \n",
       "4  2003-03-26      Emergency Room               7  Family/GeneralPractice   \n",
       "\n",
       "   num_lab_procedures  num_procedures  number_outpatient  number_inpatient  \\\n",
       "0                  31               6                  0                 0   \n",
       "1                  70               1                  0                 0   \n",
       "2                  73               0                  0                 0   \n",
       "3                  68               2                  0                 0   \n",
       "4                  60               0                  0                 0   \n",
       "\n",
       "  diag_1  diag_2 diag_3  readmitted  emergency_visits  acuity_of_admission  \\\n",
       "0    414     411    250           0                 4                    1   \n",
       "1    414     411    V45           0                 1                    3   \n",
       "2    428     492    250           0                 0                    4   \n",
       "3    398     427     38           0                 5                    5   \n",
       "4    428  250.43  250.6           1                 3                    5   \n",
       "\n",
       "   comorbidity  \n",
       "0           14  \n",
       "1           12  \n",
       "2           10  \n",
       "3            1  \n",
       "4            8  "
      ]
     },
     "execution_count": 31,
     "metadata": {},
     "output_type": "execute_result"
    }
   ],
   "source": [
    "# read the file and create a pandas dataframe\n",
    "data7 = pd.read_csv('E:/xyz22.csv')\n",
    "data7.head()"
   ]
  },
  {
   "cell_type": "code",
   "execution_count": 32,
   "metadata": {
    "collapsed": true
   },
   "outputs": [],
   "source": [
    "from scipy.stats import mode"
   ]
  },
  {
   "cell_type": "code",
   "execution_count": 55,
   "metadata": {
    "collapsed": true
   },
   "outputs": [],
   "source": [
    "data7.index = data7['date'] "
   ]
  },
  {
   "cell_type": "code",
   "execution_count": null,
   "metadata": {
    "collapsed": true
   },
   "outputs": [],
   "source": []
  },
  {
   "cell_type": "code",
   "execution_count": 57,
   "metadata": {},
   "outputs": [],
   "source": [
    "# Group the data frame by month and item and extract a number of stats from each group\n",
    "d1=data7.resample('M').agg({'admission_source_id':'last',      \n",
    "                                     'lenght_of_stay': 'mean', \n",
    "                             'medical_specialty':'last',\n",
    "                              'num_lab_procedures':'last',\n",
    "                              'num_procedures':'last',\n",
    "                              'number_outpatient':sum,\n",
    "                              'number_inpatient':'sum',\n",
    "                             'diag_1':'last',\n",
    "                              'diag_2':'last',\n",
    "                              'diag_3':'last',\n",
    "                              'readmitted':'last',\n",
    "                              'emergency_visits':'last',\n",
    "                              'acuity_of_admission':'last',\n",
    "                              'comorbidity':'last'}) "
   ]
  },
  {
   "cell_type": "code",
   "execution_count": 58,
   "metadata": {},
   "outputs": [
    {
     "data": {
      "text/html": [
       "<div>\n",
       "<style>\n",
       "    .dataframe thead tr:only-child th {\n",
       "        text-align: right;\n",
       "    }\n",
       "\n",
       "    .dataframe thead th {\n",
       "        text-align: left;\n",
       "    }\n",
       "\n",
       "    .dataframe tbody tr th {\n",
       "        vertical-align: top;\n",
       "    }\n",
       "</style>\n",
       "<table border=\"1\" class=\"dataframe\">\n",
       "  <thead>\n",
       "    <tr style=\"text-align: right;\">\n",
       "      <th></th>\n",
       "      <th>admission_source_id</th>\n",
       "      <th>lenght_of_stay</th>\n",
       "      <th>medical_specialty</th>\n",
       "      <th>num_lab_procedures</th>\n",
       "      <th>num_procedures</th>\n",
       "      <th>number_outpatient</th>\n",
       "      <th>number_inpatient</th>\n",
       "      <th>diag_1</th>\n",
       "      <th>diag_2</th>\n",
       "      <th>diag_3</th>\n",
       "      <th>readmitted</th>\n",
       "      <th>emergency_visits</th>\n",
       "      <th>acuity_of_admission</th>\n",
       "      <th>comorbidity</th>\n",
       "    </tr>\n",
       "    <tr>\n",
       "      <th>date</th>\n",
       "      <th></th>\n",
       "      <th></th>\n",
       "      <th></th>\n",
       "      <th></th>\n",
       "      <th></th>\n",
       "      <th></th>\n",
       "      <th></th>\n",
       "      <th></th>\n",
       "      <th></th>\n",
       "      <th></th>\n",
       "      <th></th>\n",
       "      <th></th>\n",
       "      <th></th>\n",
       "      <th></th>\n",
       "    </tr>\n",
       "  </thead>\n",
       "  <tbody>\n",
       "    <tr>\n",
       "      <th>2003-03-31</th>\n",
       "      <td>Emergency Room</td>\n",
       "      <td>4.714286</td>\n",
       "      <td>?</td>\n",
       "      <td>59</td>\n",
       "      <td>0</td>\n",
       "      <td>3</td>\n",
       "      <td>5</td>\n",
       "      <td>564</td>\n",
       "      <td>414</td>\n",
       "      <td>794</td>\n",
       "      <td>0</td>\n",
       "      <td>5</td>\n",
       "      <td>3</td>\n",
       "      <td>1</td>\n",
       "    </tr>\n",
       "    <tr>\n",
       "      <th>2003-04-30</th>\n",
       "      <td>Emergency Room</td>\n",
       "      <td>4.790210</td>\n",
       "      <td>Family/GeneralPractice</td>\n",
       "      <td>51</td>\n",
       "      <td>0</td>\n",
       "      <td>5</td>\n",
       "      <td>15</td>\n",
       "      <td>428</td>\n",
       "      <td>250.02</td>\n",
       "      <td>401</td>\n",
       "      <td>0</td>\n",
       "      <td>5</td>\n",
       "      <td>1</td>\n",
       "      <td>9</td>\n",
       "    </tr>\n",
       "    <tr>\n",
       "      <th>2003-05-31</th>\n",
       "      <td>Emergency Room</td>\n",
       "      <td>4.791946</td>\n",
       "      <td>InternalMedicine</td>\n",
       "      <td>46</td>\n",
       "      <td>4</td>\n",
       "      <td>5</td>\n",
       "      <td>24</td>\n",
       "      <td>428</td>\n",
       "      <td>411</td>\n",
       "      <td>424</td>\n",
       "      <td>0</td>\n",
       "      <td>2</td>\n",
       "      <td>3</td>\n",
       "      <td>11</td>\n",
       "    </tr>\n",
       "    <tr>\n",
       "      <th>2003-06-30</th>\n",
       "      <td>Emergency Room</td>\n",
       "      <td>5.119497</td>\n",
       "      <td>?</td>\n",
       "      <td>46</td>\n",
       "      <td>6</td>\n",
       "      <td>2</td>\n",
       "      <td>21</td>\n",
       "      <td>414</td>\n",
       "      <td>411</td>\n",
       "      <td>424</td>\n",
       "      <td>0</td>\n",
       "      <td>2</td>\n",
       "      <td>4</td>\n",
       "      <td>7</td>\n",
       "    </tr>\n",
       "    <tr>\n",
       "      <th>2003-07-31</th>\n",
       "      <td>Emergency Room</td>\n",
       "      <td>4.815642</td>\n",
       "      <td>?</td>\n",
       "      <td>69</td>\n",
       "      <td>1</td>\n",
       "      <td>16</td>\n",
       "      <td>35</td>\n",
       "      <td>428</td>\n",
       "      <td>707</td>\n",
       "      <td>416</td>\n",
       "      <td>0</td>\n",
       "      <td>4</td>\n",
       "      <td>4</td>\n",
       "      <td>11</td>\n",
       "    </tr>\n",
       "  </tbody>\n",
       "</table>\n",
       "</div>"
      ],
      "text/plain": [
       "           admission_source_id  lenght_of_stay       medical_specialty  \\\n",
       "date                                                                     \n",
       "2003-03-31      Emergency Room        4.714286                       ?   \n",
       "2003-04-30      Emergency Room        4.790210  Family/GeneralPractice   \n",
       "2003-05-31      Emergency Room        4.791946        InternalMedicine   \n",
       "2003-06-30      Emergency Room        5.119497                       ?   \n",
       "2003-07-31      Emergency Room        4.815642                       ?   \n",
       "\n",
       "            num_lab_procedures  num_procedures  number_outpatient  \\\n",
       "date                                                                \n",
       "2003-03-31                  59               0                  3   \n",
       "2003-04-30                  51               0                  5   \n",
       "2003-05-31                  46               4                  5   \n",
       "2003-06-30                  46               6                  2   \n",
       "2003-07-31                  69               1                 16   \n",
       "\n",
       "            number_inpatient diag_1  diag_2 diag_3  readmitted  \\\n",
       "date                                                             \n",
       "2003-03-31                 5    564     414    794           0   \n",
       "2003-04-30                15    428  250.02    401           0   \n",
       "2003-05-31                24    428     411    424           0   \n",
       "2003-06-30                21    414     411    424           0   \n",
       "2003-07-31                35    428     707    416           0   \n",
       "\n",
       "            emergency_visits  acuity_of_admission  comorbidity  \n",
       "date                                                            \n",
       "2003-03-31                 5                    3            1  \n",
       "2003-04-30                 5                    1            9  \n",
       "2003-05-31                 2                    3           11  \n",
       "2003-06-30                 2                    4            7  \n",
       "2003-07-31                 4                    4           11  "
      ]
     },
     "execution_count": 58,
     "metadata": {},
     "output_type": "execute_result"
    }
   ],
   "source": [
    "d1.head()"
   ]
  },
  {
   "cell_type": "code",
   "execution_count": 59,
   "metadata": {},
   "outputs": [
    {
     "data": {
      "text/plain": [
       "(166, 14)"
      ]
     },
     "execution_count": 59,
     "metadata": {},
     "output_type": "execute_result"
    }
   ],
   "source": [
    "d1.shape"
   ]
  },
  {
   "cell_type": "code",
   "execution_count": 243,
   "metadata": {
    "collapsed": true
   },
   "outputs": [],
   "source": [
    "d.to_csv('E:/xy.csv')"
   ]
  },
  {
   "cell_type": "code",
   "execution_count": 153,
   "metadata": {
    "collapsed": true
   },
   "outputs": [],
   "source": [
    "data[\"age\"] = data[\"age\"].astype('category')\n",
    "data[\"race\"] = data[\"race\"].astype('category')\n",
    "data[\"gender\"] = data[\"gender\"].astype('category')\n",
    "data[\"medical_specialty\"] = data[\"medical_specialty\"].astype('category')\n",
    "data[\"change\"] = data[\"change\"].astype('category')\n",
    "data[\"diabetesMed\"] = data[\"diabetesMed\"].astype('category')\n",
    "data[\"discharge_disposition_id\"] = data[\"discharge_disposition_id\"].astype('category')\n",
    "data[\"admission_source_id\"] = data[\"admission_source_id\"].astype('category')\n",
    "data[\"admission_type_id\"] = data[\"admission_type_id\"].astype('category')\n",
    "data[\"diag_1\"] = data[\"diag_1\"].astype('category')\n",
    "data[\"diag_2\"] = data[\"diag_2\"].astype('category')\n",
    "data[\"diag_3\"] = data[\"diag_3\"].astype('category')"
   ]
  },
  {
   "cell_type": "code",
   "execution_count": 154,
   "metadata": {
    "collapsed": true
   },
   "outputs": [],
   "source": [
    "data[\"age1\"] = data[\"age\"].cat.codes\n",
    "data[\"race1\"] = data[\"race\"].cat.codes\n",
    "data[\"gender1\"] = data[\"gender\"].cat.codes\n",
    "data[\"medical_specialty1\"] = data[\"medical_specialty\"].cat.codes\n",
    "data[\"change1\"] = data[\"change\"].cat.codes\n",
    "data[\"diabetesMed1\"] = data[\"diabetesMed\"].cat.codes\n",
    "data[\"discharge_disposition_id1\"] = data[\"discharge_disposition_id\"].cat.codes\n",
    "data[\"admission_source_id1\"] = data[\"admission_source_id\"].cat.codes\n",
    "data[\"admission_type_id1\"] = data[\"admission_type_id\"].cat.codes\n",
    "data[\"diag_11\"] = data[\"diag_1\"].cat.codes\n",
    "data[\"diag_21\"] = data[\"diag_2\"].cat.codes\n",
    "data[\"diag_31\"] = data[\"diag_3\"].cat.codes\n",
    "\n",
    "\n",
    "\n",
    "data.drop(['age', 'medical_specialty', 'race', 'gender','change', \n",
    "                  'diabetesMed', 'discharge_disposition_id', 'admission_source_id', \n",
    "                  'admission_type_id', 'diag_1', 'diag_2', 'diag_3'], axis=1, inplace=True)\n",
    "\n"
   ]
  },
  {
   "cell_type": "code",
   "execution_count": null,
   "metadata": {
    "collapsed": true
   },
   "outputs": [],
   "source": []
  },
  {
   "cell_type": "code",
   "execution_count": 29,
   "metadata": {
    "collapsed": true
   },
   "outputs": [],
   "source": [
    "# apply square root transformation on right skewed count data to reduce the effects of extreme values.\n",
    "# here log transformation is not appropriate because the data is Poisson distributed and contains many zero values.\n",
    "data['number_outpatient'] = data['number_outpatient'].apply(lambda x: np.sqrt(x + 0.5))\n",
    "data['number_emergency'] = data['number_emergency'].apply(lambda x: np.sqrt(x + 0.5))\n",
    "data['number_inpatient'] = data['number_inpatient'].apply(lambda x: np.sqrt(x + 0.5))"
   ]
  },
  {
   "cell_type": "code",
   "execution_count": 30,
   "metadata": {
    "collapsed": true
   },
   "outputs": [],
   "source": [
    "# feature scaling, features are standardized to have zero mean and unit variance\n",
    "feature_scale_cols = ['time_in_hospital', 'num_lab_procedures', 'num_procedures', 'num_medications', \n",
    "                      'number_diagnoses', 'number_inpatient', 'number_emergency', 'number_outpatient']\n",
    "\n",
    "from sklearn import preprocessing\n",
    "scaler = preprocessing.StandardScaler().fit(data[feature_scale_cols])\n",
    "data_scaler = scaler.transform(data[feature_scale_cols])\n",
    "\n",
    "data_scaler_df = pd.DataFrame(data=data_scaler, columns=feature_scale_cols, index=data.index)\n",
    "data.drop(feature_scale_cols, axis=1, inplace=True)\n",
    "data = pd.concat([data, data_scaler_df], axis=1)"
   ]
  },
  {
   "cell_type": "code",
   "execution_count": 31,
   "metadata": {
    "collapsed": true
   },
   "outputs": [],
   "source": [
    "# create X (features) and y (response)\n",
    "X = data.drop(['readmitted'], axis=1)\n",
    "y = data['readmitted']"
   ]
  },
  {
   "cell_type": "code",
   "execution_count": 32,
   "metadata": {
    "collapsed": true
   },
   "outputs": [],
   "source": [
    "# split X and y into cross-validation (75%) and testing (25%) data sets\n",
    "from sklearn.cross_validation import train_test_split\n",
    "X_cv, X_test, y_cv, y_test = train_test_split(X, y, test_size=0.25)"
   ]
  },
  {
   "cell_type": "code",
   "execution_count": 33,
   "metadata": {},
   "outputs": [
    {
     "name": "stdout",
     "output_type": "stream",
     "text": [
      "Top 10 features are: \n",
      "num_lab_procedures\n",
      "diag_31\n",
      "diag_11\n",
      "num_medications\n",
      "diag_21\n",
      "comorbidity\n",
      "time_in_hospital\n",
      "emergency_visits\n",
      "acuity_of_admission\n",
      "number_diagnoses\n"
     ]
    },
    {
     "data": {
      "image/png": "[encoded data removed]",
      "text/plain": [
       "<matplotlib.figure.Figure at 0xdc71a20>"
      ]
     },
     "metadata": {},
     "output_type": "display_data"
    }
   ],
   "source": [
    "# fit Random Forest model to the cross-validation data\n",
    "from sklearn.ensemble import RandomForestClassifier\n",
    "forest = RandomForestClassifier()\n",
    "forest.fit(X_cv, y_cv)\n",
    "importances = forest.feature_importances_\n",
    "\n",
    "# make importance relative to the max importance\n",
    "feature_importance = 100.0 * (importances / importances.max())\n",
    "sorted_idx = np.argsort(feature_importance)\n",
    "feature_names = list(X_cv.columns.values)\n",
    "feature_names_sort = [feature_names[indice] for indice in sorted_idx]\n",
    "pos = np.arange(sorted_idx.shape[0]) + .5\n",
    "print('Top 10 features are: ')\n",
    "for feature in feature_names_sort[::-1][:10]:\n",
    "    print(feature)\n",
    "\n",
    "# plot the result\n",
    "plt.figure(figsize=(12, 10))\n",
    "plt.barh(pos, feature_importance[sorted_idx], align='center')\n",
    "plt.yticks(pos, feature_names_sort)\n",
    "plt.title('Relative Feature Importance', fontsize=20)\n",
    "plt.show()"
   ]
  },
  {
   "cell_type": "code",
   "execution_count": 34,
   "metadata": {
    "collapsed": true
   },
   "outputs": [],
   "source": [
    "from sklearn.linear_model import LogisticRegression\n",
    "from imblearn.over_sampling import SMOTE\n",
    "from sklearn.model_selection import train_test_split\n",
    "from sklearn import metrics\n",
    "from collections import Counter\n",
    "from sklearn.ensemble import RandomForestClassifier\n",
    "from sklearn import metrics"
   ]
  },
  {
   "cell_type": "code",
   "execution_count": 35,
   "metadata": {
    "collapsed": true
   },
   "outputs": [],
   "source": [
    "#data Preparation\n",
    "X1 = X\n",
    "y1 = y\n",
    "data = pd.concat([X,y], axis = 1)\n",
    "df = Counter(y)\n",
    "c = min(y, key=df.get)\n",
    "d = [i for i,x in enumerate(y) if x == c]  #row index having rare class\n",
    "d1 = [i for i,x in enumerate(y) if x != c]\n",
    "Rare_Class_data = data.iloc[d]\n",
    "Mejor_Class_data = data.iloc[d1]"
   ]
  },
  {
   "cell_type": "code",
   "execution_count": 36,
   "metadata": {
    "collapsed": true
   },
   "outputs": [],
   "source": [
    "df = Rare_Class_data\n",
    "a=Rare_Class_data.shape[0]\n",
    "b = Mejor_Class_data.shape[0]\n",
    "n = round(b/a)\n",
    "sm = SMOTE(random_state=12, ratio = 1.0)\n",
    "rf =  RandomForestClassifier()\n",
    "\n",
    "acc1=0\n",
    "acc2=0"
   ]
  },
  {
   "cell_type": "code",
   "execution_count": 37,
   "metadata": {},
   "outputs": [
    {
     "name": "stderr",
     "output_type": "stream",
     "text": [
      "C:\\Users\\shwetag\\AppData\\Local\\Continuum\\anaconda3\\lib\\site-packages\\sklearn\\utils\\deprecation.py:77: DeprecationWarning: Function _ratio_float is deprecated; Use a float for 'ratio' is deprecated from version 0.2. The support will be removed in 0.4. Use a dict, str, or a callable instead.\n",
      "  warnings.warn(msg, category=DeprecationWarning)\n",
      "C:\\Users\\shwetag\\AppData\\Local\\Continuum\\anaconda3\\lib\\site-packages\\sklearn\\utils\\deprecation.py:77: DeprecationWarning: Function _ratio_float is deprecated; Use a float for 'ratio' is deprecated from version 0.2. The support will be removed in 0.4. Use a dict, str, or a callable instead.\n",
      "  warnings.warn(msg, category=DeprecationWarning)\n",
      "C:\\Users\\shwetag\\AppData\\Local\\Continuum\\anaconda3\\lib\\site-packages\\sklearn\\utils\\deprecation.py:77: DeprecationWarning: Function _ratio_float is deprecated; Use a float for 'ratio' is deprecated from version 0.2. The support will be removed in 0.4. Use a dict, str, or a callable instead.\n",
      "  warnings.warn(msg, category=DeprecationWarning)\n",
      "C:\\Users\\shwetag\\AppData\\Local\\Continuum\\anaconda3\\lib\\site-packages\\sklearn\\utils\\deprecation.py:77: DeprecationWarning: Function _ratio_float is deprecated; Use a float for 'ratio' is deprecated from version 0.2. The support will be removed in 0.4. Use a dict, str, or a callable instead.\n",
      "  warnings.warn(msg, category=DeprecationWarning)\n",
      "C:\\Users\\shwetag\\AppData\\Local\\Continuum\\anaconda3\\lib\\site-packages\\sklearn\\utils\\deprecation.py:77: DeprecationWarning: Function _ratio_float is deprecated; Use a float for 'ratio' is deprecated from version 0.2. The support will be removed in 0.4. Use a dict, str, or a callable instead.\n",
      "  warnings.warn(msg, category=DeprecationWarning)\n",
      "C:\\Users\\shwetag\\AppData\\Local\\Continuum\\anaconda3\\lib\\site-packages\\sklearn\\utils\\deprecation.py:77: DeprecationWarning: Function _ratio_float is deprecated; Use a float for 'ratio' is deprecated from version 0.2. The support will be removed in 0.4. Use a dict, str, or a callable instead.\n",
      "  warnings.warn(msg, category=DeprecationWarning)\n",
      "C:\\Users\\shwetag\\AppData\\Local\\Continuum\\anaconda3\\lib\\site-packages\\sklearn\\utils\\deprecation.py:77: DeprecationWarning: Function _ratio_float is deprecated; Use a float for 'ratio' is deprecated from version 0.2. The support will be removed in 0.4. Use a dict, str, or a callable instead.\n",
      "  warnings.warn(msg, category=DeprecationWarning)\n",
      "C:\\Users\\shwetag\\AppData\\Local\\Continuum\\anaconda3\\lib\\site-packages\\sklearn\\utils\\deprecation.py:77: DeprecationWarning: Function _ratio_float is deprecated; Use a float for 'ratio' is deprecated from version 0.2. The support will be removed in 0.4. Use a dict, str, or a callable instead.\n",
      "  warnings.warn(msg, category=DeprecationWarning)\n",
      "C:\\Users\\shwetag\\AppData\\Local\\Continuum\\anaconda3\\lib\\site-packages\\sklearn\\utils\\deprecation.py:77: DeprecationWarning: Function _ratio_float is deprecated; Use a float for 'ratio' is deprecated from version 0.2. The support will be removed in 0.4. Use a dict, str, or a callable instead.\n",
      "  warnings.warn(msg, category=DeprecationWarning)\n"
     ]
    }
   ],
   "source": [
    " for i in range(1,n):\n",
    "             df1 = Rare_Class_data.copy()\n",
    "             df = data.append(df1)\n",
    "             data = df\n",
    "             n=df.shape[1]\n",
    "             X1=df.iloc[:,1:(n-2)]\n",
    "             y1=df.iloc[:,(n-1)]\n",
    "             \n",
    "             X_train, X_test, y_train, y_test = train_test_split(X1, y1, test_size = .3,random_state=i)\n",
    "             X_train_res, y_train_res = sm.fit_sample(X_train, y_train)\n",
    "             rf.fit(X_train_res, y_train_res)\n",
    "             y_pred = rf.predict(X_test)\n",
    "             acc1 = rf.score(X_test, y_test)"
   ]
  },
  {
   "cell_type": "markdown",
   "metadata": {},
   "source": [
    "# ...Random forest using SMOTE method"
   ]
  },
  {
   "cell_type": "code",
   "execution_count": 38,
   "metadata": {},
   "outputs": [
    {
     "data": {
      "text/plain": [
       "0.9942066521264995"
      ]
     },
     "execution_count": 38,
     "metadata": {},
     "output_type": "execute_result"
    }
   ],
   "source": [
    "acc1     # SMOTE method"
   ]
  },
  {
   "cell_type": "code",
   "execution_count": 39,
   "metadata": {},
   "outputs": [
    {
     "data": {
      "text/plain": [
       "0.98841040862621266"
      ]
     },
     "execution_count": 39,
     "metadata": {},
     "output_type": "execute_result"
    }
   ],
   "source": [
    "from sklearn.metrics import cohen_kappa_score\n",
    "cohen_kappa_score(y_test, y_pred)"
   ]
  },
  {
   "cell_type": "code",
   "execution_count": 40,
   "metadata": {},
   "outputs": [
    {
     "name": "stdout",
     "output_type": "stream",
     "text": [
      "             precision    recall  f1-score   support\n",
      "\n",
      "          0       1.00      0.99      0.99      7255\n",
      "          1       0.99      1.00      0.99      7417\n",
      "\n",
      "avg / total       0.99      0.99      0.99     14672\n",
      "\n"
     ]
    }
   ],
   "source": [
    "from sklearn.metrics import classification_report\n",
    "print(classification_report(y_test, y_pred))"
   ]
  },
  {
   "cell_type": "code",
   "execution_count": 41,
   "metadata": {},
   "outputs": [
    {
     "data": {
      "image/png": "[encoded data removed]",
      "text/plain": [
       "<matplotlib.figure.Figure at 0xd80ba90>"
      ]
     },
     "metadata": {},
     "output_type": "display_data"
    }
   ],
   "source": [
    "# plot ROC curve\n",
    "fpr, tpr, thresholds = metrics.roc_curve(y_test, y_pred)\n",
    "plt.plot(fpr, tpr)\n",
    "plt.xlim([0.0, 1.0])\n",
    "plt.ylim([0.0, 1.0])\n",
    "plt.title('ROC curve for diabetes readmission')\n",
    "plt.xlabel('False Positive Rate (1 - Specificity)')\n",
    "plt.ylabel('True Positive Rate (Sensitivity)')\n",
    "plt.grid(True)"
   ]
  },
  {
   "cell_type": "code",
   "execution_count": null,
   "metadata": {
    "collapsed": true
   },
   "outputs": [],
   "source": []
  },
  {
   "cell_type": "code",
   "execution_count": null,
   "metadata": {
    "collapsed": true
   },
   "outputs": [],
   "source": []
  },
  {
   "cell_type": "markdown",
   "metadata": {},
   "source": [
    "# ...Random forest using Random over sampling method"
   ]
  },
  {
   "cell_type": "code",
   "execution_count": 42,
   "metadata": {},
   "outputs": [
    {
     "name": "stdout",
     "output_type": "stream",
     "text": [
      "0.995637949836\n"
     ]
    }
   ],
   "source": [
    "#Random over sampling method\n",
    "rf.fit(X_train, y_train)\n",
    "y_pred = rf.predict(X_test)\n",
    "acc2 = rf.score(X_test, y_test)\n",
    "print(acc2)"
   ]
  },
  {
   "cell_type": "code",
   "execution_count": 43,
   "metadata": {},
   "outputs": [
    {
     "name": "stdout",
     "output_type": "stream",
     "text": [
      "0.991273995309\n"
     ]
    }
   ],
   "source": [
    "from sklearn.metrics import cohen_kappa_score\n",
    "print(cohen_kappa_score(y_test, y_pred))"
   ]
  },
  {
   "cell_type": "code",
   "execution_count": 44,
   "metadata": {},
   "outputs": [
    {
     "name": "stdout",
     "output_type": "stream",
     "text": [
      "             precision    recall  f1-score   support\n",
      "\n",
      "          0       1.00      0.99      1.00      7255\n",
      "          1       0.99      1.00      1.00      7417\n",
      "\n",
      "avg / total       1.00      1.00      1.00     14672\n",
      "\n"
     ]
    }
   ],
   "source": [
    "from sklearn.metrics import classification_report\n",
    "print(classification_report(y_test, y_pred))"
   ]
  },
  {
   "cell_type": "code",
   "execution_count": 45,
   "metadata": {},
   "outputs": [
    {
     "data": {
      "image/png": "[encoded data removed]",
      "text/plain": [
       "<matplotlib.figure.Figure at 0xdac6cc0>"
      ]
     },
     "metadata": {},
     "output_type": "display_data"
    }
   ],
   "source": [
    "# plot ROC curve\n",
    "fpr, tpr, thresholds = metrics.roc_curve(y_test, y_pred)\n",
    "plt.plot(fpr, tpr)\n",
    "plt.xlim([0.0, 1.0])\n",
    "plt.ylim([0.0, 1.0])\n",
    "plt.title('ROC curve for diabetes readmission')\n",
    "plt.xlabel('False Positive Rate (1 - Specificity)')\n",
    "plt.ylabel('True Positive Rate (Sensitivity)')\n",
    "plt.grid(True)"
   ]
  },
  {
   "cell_type": "markdown",
   "metadata": {},
   "source": [
    "# ...Regular Random forest Method"
   ]
  },
  {
   "cell_type": "code",
   "execution_count": 77,
   "metadata": {},
   "outputs": [
    {
     "data": {
      "text/plain": [
       "0.90687804269129946"
      ]
     },
     "execution_count": 77,
     "metadata": {},
     "output_type": "execute_result"
    }
   ],
   "source": [
    "#regular logistic regression Method\n",
    "X_train, X_test, y_train, y_test = train_test_split(X, y, test_size = .3,  random_state=i)\n",
    "rf.fit(X_train, y_train)\n",
    "y_pred = rf.predict(X_test)\n",
    "acc3 = rf.score(X_test, y_test)\n",
    "acc3"
   ]
  },
  {
   "cell_type": "code",
   "execution_count": 78,
   "metadata": {},
   "outputs": [
    {
     "data": {
      "text/plain": [
       "0.00045493120336337345"
      ]
     },
     "execution_count": 78,
     "metadata": {},
     "output_type": "execute_result"
    }
   ],
   "source": [
    "from sklearn.metrics import cohen_kappa_score\n",
    "cohen_kappa_score(y_test, y_pred)"
   ]
  },
  {
   "cell_type": "code",
   "execution_count": 79,
   "metadata": {},
   "outputs": [
    {
     "data": {
      "image/png": "[encoded data removed]",
      "text/plain": [
       "<matplotlib.figure.Figure at 0xe148048>"
      ]
     },
     "metadata": {},
     "output_type": "display_data"
    }
   ],
   "source": [
    "# plot ROC curve\n",
    "fpr, tpr, thresholds = metrics.roc_curve(y_test, y_pred)\n",
    "plt.plot(fpr, tpr)\n",
    "plt.xlim([0.0, 1.0])\n",
    "plt.ylim([0.0, 1.0])\n",
    "plt.title('ROC curve for diabetes readmission')\n",
    "plt.xlabel('False Positive Rate (1 - Specificity)')\n",
    "plt.ylabel('True Positive Rate (Sensitivity)')\n",
    "plt.grid(True)"
   ]
  },
  {
   "cell_type": "code",
   "execution_count": 80,
   "metadata": {},
   "outputs": [
    {
     "name": "stdout",
     "output_type": "stream",
     "text": [
      "             precision    recall  f1-score   support\n",
      "\n",
      "          0       0.91      1.00      0.95      7272\n",
      "          1       0.11      0.00      0.00       739\n",
      "\n",
      "avg / total       0.83      0.91      0.86      8011\n",
      "\n"
     ]
    }
   ],
   "source": [
    "from sklearn.metrics import classification_report\n",
    "print(classification_report(y_test, y_pred))"
   ]
  },
  {
   "cell_type": "code",
   "execution_count": 46,
   "metadata": {
    "collapsed": true
   },
   "outputs": [],
   "source": [
    "####Prediction on new data\n",
    "new=data[500:575]\n",
    "\n",
    "# create a (features) and b (response)\n",
    "p = new.drop(['readmitted'], axis=1)\n",
    "q = new['readmitted']"
   ]
  },
  {
   "cell_type": "code",
   "execution_count": 49,
   "metadata": {},
   "outputs": [
    {
     "data": {
      "text/plain": [
       "(75, 24)"
      ]
     },
     "execution_count": 49,
     "metadata": {},
     "output_type": "execute_result"
    }
   ],
   "source": [
    "new.shape"
   ]
  },
  {
   "cell_type": "code",
   "execution_count": 50,
   "metadata": {},
   "outputs": [
    {
     "data": {
      "text/plain": [
       "(48906, 24)"
      ]
     },
     "execution_count": 50,
     "metadata": {},
     "output_type": "execute_result"
    }
   ],
   "source": [
    "data.shape"
   ]
  },
  {
   "cell_type": "code",
   "execution_count": 58,
   "metadata": {
    "collapsed": true
   },
   "outputs": [],
   "source": [
    "#y_pred_new = rf.predict(p)"
   ]
  },
  {
   "cell_type": "code",
   "execution_count": 59,
   "metadata": {},
   "outputs": [
    {
     "ename": "NameError",
     "evalue": "name 'y_pred_new' is not defined",
     "output_type": "error",
     "traceback": [
      "\u001b[1;31m---------------------------------------------------------------------------\u001b[0m",
      "\u001b[1;31mNameError\u001b[0m                                 Traceback (most recent call last)",
      "\u001b[1;32m<ipython-input-59-a45449cd7ea9>\u001b[0m in \u001b[0;36m<module>\u001b[1;34m()\u001b[0m\n\u001b[1;32m----> 1\u001b[1;33m \u001b[0my_pred_new\u001b[0m\u001b[1;33m\u001b[0m\u001b[0m\n\u001b[0m",
      "\u001b[1;31mNameError\u001b[0m: name 'y_pred_new' is not defined"
     ]
    }
   ],
   "source": [
    "y_pred_new"
   ]
  },
  {
   "cell_type": "code",
   "execution_count": 54,
   "metadata": {},
   "outputs": [
    {
     "data": {
      "text/plain": [
       "array([1, 1, 0, 0, 0, 0, 0, 1, 0, 0, 0, 0, 1, 0, 0, 0, 0, 0, 1, 0, 0, 0, 0,\n",
       "       0, 0, 0, 0, 0, 1, 0, 0, 0, 1, 0, 0, 0, 0, 0, 0, 1, 0, 0, 0, 0, 0, 0,\n",
       "       0, 0, 0, 0, 0, 1, 0, 0, 0, 0, 0, 0, 0, 0, 0, 0, 0, 0, 0, 0, 0, 0, 0,\n",
       "       0, 0, 0, 0, 0, 0], dtype=int64)"
      ]
     },
     "execution_count": 54,
     "metadata": {},
     "output_type": "execute_result"
    }
   ],
   "source": [
    "np.array(q)"
   ]
  },
  {
   "cell_type": "code",
   "execution_count": null,
   "metadata": {
    "collapsed": true
   },
   "outputs": [],
   "source": []
  }
 ],
 "metadata": {
  "kernelspec": {
   "display_name": "Python 3",
   "language": "python",
   "name": "python3"
  },
  "language_info": {
   "codemirror_mode": {
    "name": "ipython",
    "version": 3
   },
   "file_extension": ".py",
   "mimetype": "text/x-python",
   "name": "python",
   "nbconvert_exporter": "python",
   "pygments_lexer": "ipython3",
   "version": "3.6.3"
  }
 },
 "nbformat": 4,
 "nbformat_minor": 2
}
